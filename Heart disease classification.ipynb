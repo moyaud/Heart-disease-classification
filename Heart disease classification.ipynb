{
 "cells": [
  {
   "cell_type": "markdown",
   "id": "cd0eabcb",
   "metadata": {},
   "source": [
    "# Predicting heart disease using machine learning\n",
    "#This notebook looks into using various Python-based machine learning \n",
    "#and data science libraries in an attempt to build a machine learning model capable of predicting whether \n",
    "#or not someone has heart disease based on their medical attributes."
   ]
  },
  {
   "cell_type": "code",
   "execution_count": 1,
   "id": "53c516ec",
   "metadata": {},
   "outputs": [],
   "source": [
    "import numpy as np\n",
    "import pandas as pd\n",
    "import matplotlib.pyplot as plt\n",
    "import seaborn as sns"
   ]
  },
  {
   "cell_type": "code",
   "execution_count": 2,
   "id": "b75e5267",
   "metadata": {},
   "outputs": [],
   "source": [
    "df = pd.read_csv('C:\\\\Users\\\\97150\\\\OneDrive\\\\Desktop\\\\personal\\\\UDEMY\\\\heart disease classification dataset.csv')"
   ]
  },
  {
   "cell_type": "code",
   "execution_count": 3,
   "id": "28577165",
   "metadata": {},
   "outputs": [
    {
     "data": {
      "text/html": [
       "<div>\n",
       "<style scoped>\n",
       "    .dataframe tbody tr th:only-of-type {\n",
       "        vertical-align: middle;\n",
       "    }\n",
       "\n",
       "    .dataframe tbody tr th {\n",
       "        vertical-align: top;\n",
       "    }\n",
       "\n",
       "    .dataframe thead th {\n",
       "        text-align: right;\n",
       "    }\n",
       "</style>\n",
       "<table border=\"1\" class=\"dataframe\">\n",
       "  <thead>\n",
       "    <tr style=\"text-align: right;\">\n",
       "      <th></th>\n",
       "      <th>Unnamed: 0</th>\n",
       "      <th>age</th>\n",
       "      <th>sex</th>\n",
       "      <th>cp</th>\n",
       "      <th>trestbps</th>\n",
       "      <th>chol</th>\n",
       "      <th>fbs</th>\n",
       "      <th>restecg</th>\n",
       "      <th>thalach</th>\n",
       "      <th>exang</th>\n",
       "      <th>oldpeak</th>\n",
       "      <th>slope</th>\n",
       "      <th>ca</th>\n",
       "      <th>thal</th>\n",
       "      <th>target</th>\n",
       "    </tr>\n",
       "  </thead>\n",
       "  <tbody>\n",
       "    <tr>\n",
       "      <th>0</th>\n",
       "      <td>0</td>\n",
       "      <td>63</td>\n",
       "      <td>male</td>\n",
       "      <td>3</td>\n",
       "      <td>145.0</td>\n",
       "      <td>233.0</td>\n",
       "      <td>1</td>\n",
       "      <td>0</td>\n",
       "      <td>150.0</td>\n",
       "      <td>0</td>\n",
       "      <td>2.3</td>\n",
       "      <td>0</td>\n",
       "      <td>0</td>\n",
       "      <td>1</td>\n",
       "      <td>yes</td>\n",
       "    </tr>\n",
       "    <tr>\n",
       "      <th>1</th>\n",
       "      <td>1</td>\n",
       "      <td>37</td>\n",
       "      <td>male</td>\n",
       "      <td>2</td>\n",
       "      <td>130.0</td>\n",
       "      <td>250.0</td>\n",
       "      <td>0</td>\n",
       "      <td>1</td>\n",
       "      <td>187.0</td>\n",
       "      <td>0</td>\n",
       "      <td>3.5</td>\n",
       "      <td>0</td>\n",
       "      <td>0</td>\n",
       "      <td>2</td>\n",
       "      <td>yes</td>\n",
       "    </tr>\n",
       "    <tr>\n",
       "      <th>2</th>\n",
       "      <td>2</td>\n",
       "      <td>41</td>\n",
       "      <td>female</td>\n",
       "      <td>1</td>\n",
       "      <td>130.0</td>\n",
       "      <td>204.0</td>\n",
       "      <td>0</td>\n",
       "      <td>0</td>\n",
       "      <td>172.0</td>\n",
       "      <td>0</td>\n",
       "      <td>1.4</td>\n",
       "      <td>2</td>\n",
       "      <td>0</td>\n",
       "      <td>2</td>\n",
       "      <td>yes</td>\n",
       "    </tr>\n",
       "    <tr>\n",
       "      <th>3</th>\n",
       "      <td>3</td>\n",
       "      <td>56</td>\n",
       "      <td>male</td>\n",
       "      <td>1</td>\n",
       "      <td>120.0</td>\n",
       "      <td>236.0</td>\n",
       "      <td>0</td>\n",
       "      <td>1</td>\n",
       "      <td>178.0</td>\n",
       "      <td>0</td>\n",
       "      <td>0.8</td>\n",
       "      <td>2</td>\n",
       "      <td>0</td>\n",
       "      <td>2</td>\n",
       "      <td>yes</td>\n",
       "    </tr>\n",
       "    <tr>\n",
       "      <th>4</th>\n",
       "      <td>4</td>\n",
       "      <td>57</td>\n",
       "      <td>female</td>\n",
       "      <td>0</td>\n",
       "      <td>NaN</td>\n",
       "      <td>354.0</td>\n",
       "      <td>0</td>\n",
       "      <td>1</td>\n",
       "      <td>163.0</td>\n",
       "      <td>1</td>\n",
       "      <td>0.6</td>\n",
       "      <td>2</td>\n",
       "      <td>0</td>\n",
       "      <td>2</td>\n",
       "      <td>yes</td>\n",
       "    </tr>\n",
       "  </tbody>\n",
       "</table>\n",
       "</div>"
      ],
      "text/plain": [
       "   Unnamed: 0  age     sex  cp  trestbps   chol  fbs  restecg  thalach  exang  \\\n",
       "0           0   63    male   3     145.0  233.0    1        0    150.0      0   \n",
       "1           1   37    male   2     130.0  250.0    0        1    187.0      0   \n",
       "2           2   41  female   1     130.0  204.0    0        0    172.0      0   \n",
       "3           3   56    male   1     120.0  236.0    0        1    178.0      0   \n",
       "4           4   57  female   0       NaN  354.0    0        1    163.0      1   \n",
       "\n",
       "   oldpeak  slope  ca  thal target  \n",
       "0      2.3      0   0     1    yes  \n",
       "1      3.5      0   0     2    yes  \n",
       "2      1.4      2   0     2    yes  \n",
       "3      0.8      2   0     2    yes  \n",
       "4      0.6      2   0     2    yes  "
      ]
     },
     "execution_count": 3,
     "metadata": {},
     "output_type": "execute_result"
    }
   ],
   "source": [
    "df.head()"
   ]
  },
  {
   "cell_type": "code",
   "execution_count": 9,
   "id": "0d600ca7",
   "metadata": {},
   "outputs": [
    {
     "data": {
      "text/plain": [
       "<AxesSubplot:xlabel='chol', ylabel='trestbps'>"
      ]
     },
     "execution_count": 9,
     "metadata": {},
     "output_type": "execute_result"
    },
    {
     "data": {
      "image/png": "[encoded data removed]",
      "text/plain": [
       "<Figure size 640x480 with 1 Axes>"
      ]
     },
     "metadata": {},
     "output_type": "display_data"
    }
   ],
   "source": [
    "sns.scatterplot(y='trestbps',x='chol',data=df,alpha=0.7,hue='target')"
   ]
  },
  {
   "cell_type": "code",
   "execution_count": 18,
   "id": "0a25fdd8",
   "metadata": {},
   "outputs": [
    {
     "data": {
      "text/plain": [
       "Index(['Unnamed: 0', 'age', 'sex', 'cp', 'trestbps', 'chol', 'fbs', 'restecg',\n",
       "       'thalach', 'exang', 'oldpeak', 'slope', 'ca', 'thal', 'target'],\n",
       "      dtype='object')"
      ]
     },
     "execution_count": 18,
     "metadata": {},
     "output_type": "execute_result"
    }
   ],
   "source": [
    "df.columns"
   ]
  },
  {
   "cell_type": "code",
   "execution_count": 271,
   "id": "390299c4",
   "metadata": {},
   "outputs": [],
   "source": [
    "# Import models from scikit-learn\n",
    "\n",
    "from sklearn.linear_model import LogisticRegression\n",
    "from sklearn.neighbors import KNeighborsClassifier\n",
    "from sklearn.ensemble import RandomForestClassifier\n",
    "\n",
    "# Import metrics for classification model evaluation\n",
    "\n",
    "from sklearn.model_selection import train_test_split , GridSearchCV , cross_val_score\n",
    "from sklearn.metrics import accuracy_score,confusion_matrix,classification_report\n",
    "from sklearn.metrics import precision_score,recall_score,f1_score\n",
    "from sklearn.metrics import plot_roc_curve , plot_precision_recall_curve"
   ]
  },
  {
   "cell_type": "code",
   "execution_count": 22,
   "id": "136cf9a5",
   "metadata": {},
   "outputs": [
    {
     "data": {
      "text/plain": [
       "(303, 15)"
      ]
     },
     "execution_count": 22,
     "metadata": {},
     "output_type": "execute_result"
    }
   ],
   "source": [
    "df.shape"
   ]
  },
  {
   "cell_type": "code",
   "execution_count": 27,
   "id": "54370891",
   "metadata": {},
   "outputs": [
    {
     "data": {
      "text/plain": [
       "array(['yes', 'no'], dtype=object)"
      ]
     },
     "execution_count": 27,
     "metadata": {},
     "output_type": "execute_result"
    }
   ],
   "source": [
    "df['target'].unique()"
   ]
  },
  {
   "cell_type": "code",
   "execution_count": 28,
   "id": "ec3edb4b",
   "metadata": {},
   "outputs": [],
   "source": [
    "mymap={'yes':1,'no':0}"
   ]
  },
  {
   "cell_type": "code",
   "execution_count": 31,
   "id": "996be0b4",
   "metadata": {},
   "outputs": [],
   "source": [
    "df['target']=df['target'].map(mymap)"
   ]
  },
  {
   "cell_type": "code",
   "execution_count": 32,
   "id": "66ab9d15",
   "metadata": {},
   "outputs": [
    {
     "data": {
      "text/html": [
       "<div>\n",
       "<style scoped>\n",
       "    .dataframe tbody tr th:only-of-type {\n",
       "        vertical-align: middle;\n",
       "    }\n",
       "\n",
       "    .dataframe tbody tr th {\n",
       "        vertical-align: top;\n",
       "    }\n",
       "\n",
       "    .dataframe thead th {\n",
       "        text-align: right;\n",
       "    }\n",
       "</style>\n",
       "<table border=\"1\" class=\"dataframe\">\n",
       "  <thead>\n",
       "    <tr style=\"text-align: right;\">\n",
       "      <th></th>\n",
       "      <th>Unnamed: 0</th>\n",
       "      <th>age</th>\n",
       "      <th>sex</th>\n",
       "      <th>cp</th>\n",
       "      <th>trestbps</th>\n",
       "      <th>chol</th>\n",
       "      <th>fbs</th>\n",
       "      <th>restecg</th>\n",
       "      <th>thalach</th>\n",
       "      <th>exang</th>\n",
       "      <th>oldpeak</th>\n",
       "      <th>slope</th>\n",
       "      <th>ca</th>\n",
       "      <th>thal</th>\n",
       "      <th>target</th>\n",
       "    </tr>\n",
       "  </thead>\n",
       "  <tbody>\n",
       "    <tr>\n",
       "      <th>0</th>\n",
       "      <td>0</td>\n",
       "      <td>63</td>\n",
       "      <td>male</td>\n",
       "      <td>3</td>\n",
       "      <td>145.0</td>\n",
       "      <td>233.0</td>\n",
       "      <td>1</td>\n",
       "      <td>0</td>\n",
       "      <td>150.0</td>\n",
       "      <td>0</td>\n",
       "      <td>2.3</td>\n",
       "      <td>0</td>\n",
       "      <td>0</td>\n",
       "      <td>1</td>\n",
       "      <td>1</td>\n",
       "    </tr>\n",
       "    <tr>\n",
       "      <th>1</th>\n",
       "      <td>1</td>\n",
       "      <td>37</td>\n",
       "      <td>male</td>\n",
       "      <td>2</td>\n",
       "      <td>130.0</td>\n",
       "      <td>250.0</td>\n",
       "      <td>0</td>\n",
       "      <td>1</td>\n",
       "      <td>187.0</td>\n",
       "      <td>0</td>\n",
       "      <td>3.5</td>\n",
       "      <td>0</td>\n",
       "      <td>0</td>\n",
       "      <td>2</td>\n",
       "      <td>1</td>\n",
       "    </tr>\n",
       "    <tr>\n",
       "      <th>2</th>\n",
       "      <td>2</td>\n",
       "      <td>41</td>\n",
       "      <td>female</td>\n",
       "      <td>1</td>\n",
       "      <td>130.0</td>\n",
       "      <td>204.0</td>\n",
       "      <td>0</td>\n",
       "      <td>0</td>\n",
       "      <td>172.0</td>\n",
       "      <td>0</td>\n",
       "      <td>1.4</td>\n",
       "      <td>2</td>\n",
       "      <td>0</td>\n",
       "      <td>2</td>\n",
       "      <td>1</td>\n",
       "    </tr>\n",
       "    <tr>\n",
       "      <th>3</th>\n",
       "      <td>3</td>\n",
       "      <td>56</td>\n",
       "      <td>male</td>\n",
       "      <td>1</td>\n",
       "      <td>120.0</td>\n",
       "      <td>236.0</td>\n",
       "      <td>0</td>\n",
       "      <td>1</td>\n",
       "      <td>178.0</td>\n",
       "      <td>0</td>\n",
       "      <td>0.8</td>\n",
       "      <td>2</td>\n",
       "      <td>0</td>\n",
       "      <td>2</td>\n",
       "      <td>1</td>\n",
       "    </tr>\n",
       "    <tr>\n",
       "      <th>4</th>\n",
       "      <td>4</td>\n",
       "      <td>57</td>\n",
       "      <td>female</td>\n",
       "      <td>0</td>\n",
       "      <td>NaN</td>\n",
       "      <td>354.0</td>\n",
       "      <td>0</td>\n",
       "      <td>1</td>\n",
       "      <td>163.0</td>\n",
       "      <td>1</td>\n",
       "      <td>0.6</td>\n",
       "      <td>2</td>\n",
       "      <td>0</td>\n",
       "      <td>2</td>\n",
       "      <td>1</td>\n",
       "    </tr>\n",
       "    <tr>\n",
       "      <th>...</th>\n",
       "      <td>...</td>\n",
       "      <td>...</td>\n",
       "      <td>...</td>\n",
       "      <td>...</td>\n",
       "      <td>...</td>\n",
       "      <td>...</td>\n",
       "      <td>...</td>\n",
       "      <td>...</td>\n",
       "      <td>...</td>\n",
       "      <td>...</td>\n",
       "      <td>...</td>\n",
       "      <td>...</td>\n",
       "      <td>...</td>\n",
       "      <td>...</td>\n",
       "      <td>...</td>\n",
       "    </tr>\n",
       "    <tr>\n",
       "      <th>298</th>\n",
       "      <td>298</td>\n",
       "      <td>57</td>\n",
       "      <td>female</td>\n",
       "      <td>0</td>\n",
       "      <td>140.0</td>\n",
       "      <td>241.0</td>\n",
       "      <td>0</td>\n",
       "      <td>1</td>\n",
       "      <td>123.0</td>\n",
       "      <td>1</td>\n",
       "      <td>0.2</td>\n",
       "      <td>1</td>\n",
       "      <td>0</td>\n",
       "      <td>3</td>\n",
       "      <td>0</td>\n",
       "    </tr>\n",
       "    <tr>\n",
       "      <th>299</th>\n",
       "      <td>299</td>\n",
       "      <td>45</td>\n",
       "      <td>male</td>\n",
       "      <td>3</td>\n",
       "      <td>110.0</td>\n",
       "      <td>264.0</td>\n",
       "      <td>0</td>\n",
       "      <td>1</td>\n",
       "      <td>132.0</td>\n",
       "      <td>0</td>\n",
       "      <td>1.2</td>\n",
       "      <td>1</td>\n",
       "      <td>0</td>\n",
       "      <td>3</td>\n",
       "      <td>0</td>\n",
       "    </tr>\n",
       "    <tr>\n",
       "      <th>300</th>\n",
       "      <td>300</td>\n",
       "      <td>68</td>\n",
       "      <td>male</td>\n",
       "      <td>0</td>\n",
       "      <td>144.0</td>\n",
       "      <td>193.0</td>\n",
       "      <td>1</td>\n",
       "      <td>1</td>\n",
       "      <td>141.0</td>\n",
       "      <td>0</td>\n",
       "      <td>3.4</td>\n",
       "      <td>1</td>\n",
       "      <td>2</td>\n",
       "      <td>3</td>\n",
       "      <td>0</td>\n",
       "    </tr>\n",
       "    <tr>\n",
       "      <th>301</th>\n",
       "      <td>301</td>\n",
       "      <td>57</td>\n",
       "      <td>male</td>\n",
       "      <td>0</td>\n",
       "      <td>NaN</td>\n",
       "      <td>131.0</td>\n",
       "      <td>0</td>\n",
       "      <td>1</td>\n",
       "      <td>115.0</td>\n",
       "      <td>1</td>\n",
       "      <td>1.2</td>\n",
       "      <td>1</td>\n",
       "      <td>1</td>\n",
       "      <td>3</td>\n",
       "      <td>0</td>\n",
       "    </tr>\n",
       "    <tr>\n",
       "      <th>302</th>\n",
       "      <td>302</td>\n",
       "      <td>57</td>\n",
       "      <td>female</td>\n",
       "      <td>1</td>\n",
       "      <td>130.0</td>\n",
       "      <td>236.0</td>\n",
       "      <td>0</td>\n",
       "      <td>0</td>\n",
       "      <td>174.0</td>\n",
       "      <td>0</td>\n",
       "      <td>0.0</td>\n",
       "      <td>1</td>\n",
       "      <td>1</td>\n",
       "      <td>2</td>\n",
       "      <td>0</td>\n",
       "    </tr>\n",
       "  </tbody>\n",
       "</table>\n",
       "<p>303 rows × 15 columns</p>\n",
       "</div>"
      ],
      "text/plain": [
       "     Unnamed: 0  age     sex  cp  trestbps   chol  fbs  restecg  thalach  \\\n",
       "0             0   63    male   3     145.0  233.0    1        0    150.0   \n",
       "1             1   37    male   2     130.0  250.0    0        1    187.0   \n",
       "2             2   41  female   1     130.0  204.0    0        0    172.0   \n",
       "3             3   56    male   1     120.0  236.0    0        1    178.0   \n",
       "4             4   57  female   0       NaN  354.0    0        1    163.0   \n",
       "..          ...  ...     ...  ..       ...    ...  ...      ...      ...   \n",
       "298         298   57  female   0     140.0  241.0    0        1    123.0   \n",
       "299         299   45    male   3     110.0  264.0    0        1    132.0   \n",
       "300         300   68    male   0     144.0  193.0    1        1    141.0   \n",
       "301         301   57    male   0       NaN  131.0    0        1    115.0   \n",
       "302         302   57  female   1     130.0  236.0    0        0    174.0   \n",
       "\n",
       "     exang  oldpeak  slope  ca  thal  target  \n",
       "0        0      2.3      0   0     1       1  \n",
       "1        0      3.5      0   0     2       1  \n",
       "2        0      1.4      2   0     2       1  \n",
       "3        0      0.8      2   0     2       1  \n",
       "4        1      0.6      2   0     2       1  \n",
       "..     ...      ...    ...  ..   ...     ...  \n",
       "298      1      0.2      1   0     3       0  \n",
       "299      0      1.2      1   0     3       0  \n",
       "300      0      3.4      1   2     3       0  \n",
       "301      1      1.2      1   1     3       0  \n",
       "302      0      0.0      1   1     2       0  \n",
       "\n",
       "[303 rows x 15 columns]"
      ]
     },
     "execution_count": 32,
     "metadata": {},
     "output_type": "execute_result"
    }
   ],
   "source": [
    "df"
   ]
  },
  {
   "cell_type": "code",
   "execution_count": 34,
   "id": "839ec728",
   "metadata": {},
   "outputs": [
    {
     "data": {
      "text/plain": [
       "1    165\n",
       "0    138\n",
       "Name: target, dtype: int64"
      ]
     },
     "execution_count": 34,
     "metadata": {},
     "output_type": "execute_result"
    }
   ],
   "source": [
    "df['target'].value_counts()"
   ]
  },
  {
   "cell_type": "code",
   "execution_count": 35,
   "id": "d7acc575",
   "metadata": {},
   "outputs": [
    {
     "data": {
      "text/plain": [
       "<AxesSubplot:xlabel='target', ylabel='count'>"
      ]
     },
     "execution_count": 35,
     "metadata": {},
     "output_type": "execute_result"
    },
    {
     "data": {
      "image/png": "[encoded data removed]",
      "text/plain": [
       "<Figure size 640x480 with 1 Axes>"
      ]
     },
     "metadata": {},
     "output_type": "display_data"
    }
   ],
   "source": [
    "sns.countplot(data=df,x=df['target'])"
   ]
  },
  {
   "cell_type": "code",
   "execution_count": 36,
   "id": "8ebe0c63",
   "metadata": {},
   "outputs": [
    {
     "name": "stdout",
     "output_type": "stream",
     "text": [
      "<class 'pandas.core.frame.DataFrame'>\n",
      "RangeIndex: 303 entries, 0 to 302\n",
      "Data columns (total 15 columns):\n",
      " #   Column      Non-Null Count  Dtype  \n",
      "---  ------      --------------  -----  \n",
      " 0   Unnamed: 0  303 non-null    int64  \n",
      " 1   age         303 non-null    int64  \n",
      " 2   sex         303 non-null    object \n",
      " 3   cp          303 non-null    int64  \n",
      " 4   trestbps    299 non-null    float64\n",
      " 5   chol        302 non-null    float64\n",
      " 6   fbs         303 non-null    int64  \n",
      " 7   restecg     303 non-null    int64  \n",
      " 8   thalach     298 non-null    float64\n",
      " 9   exang       303 non-null    int64  \n",
      " 10  oldpeak     303 non-null    float64\n",
      " 11  slope       303 non-null    int64  \n",
      " 12  ca          303 non-null    int64  \n",
      " 13  thal        303 non-null    int64  \n",
      " 14  target      303 non-null    int64  \n",
      "dtypes: float64(4), int64(10), object(1)\n",
      "memory usage: 35.6+ KB\n"
     ]
    }
   ],
   "source": [
    "df.info()"
   ]
  },
  {
   "cell_type": "code",
   "execution_count": 38,
   "id": "32bc0314",
   "metadata": {},
   "outputs": [
    {
     "data": {
      "text/plain": [
       "Unnamed: 0   -0.862585\n",
       "exang        -0.436757\n",
       "oldpeak      -0.430696\n",
       "ca           -0.391724\n",
       "thal         -0.344029\n",
       "age          -0.225439\n",
       "trestbps     -0.142035\n",
       "chol         -0.086563\n",
       "fbs          -0.028046\n",
       "restecg       0.137230\n",
       "slope         0.345877\n",
       "thalach       0.413252\n",
       "cp            0.433798\n",
       "target        1.000000\n",
       "Name: target, dtype: float64"
      ]
     },
     "execution_count": 38,
     "metadata": {},
     "output_type": "execute_result"
    }
   ],
   "source": [
    "df.corr()['target'].sort_values()"
   ]
  },
  {
   "cell_type": "code",
   "execution_count": 42,
   "id": "e370b3da",
   "metadata": {},
   "outputs": [],
   "source": [
    "df=df.drop('Unnamed: 0',axis=1)"
   ]
  },
  {
   "cell_type": "code",
   "execution_count": 44,
   "id": "2a5ac6d4",
   "metadata": {},
   "outputs": [
    {
     "name": "stdout",
     "output_type": "stream",
     "text": [
      "<class 'pandas.core.frame.DataFrame'>\n",
      "RangeIndex: 303 entries, 0 to 302\n",
      "Data columns (total 14 columns):\n",
      " #   Column    Non-Null Count  Dtype  \n",
      "---  ------    --------------  -----  \n",
      " 0   age       303 non-null    int64  \n",
      " 1   sex       303 non-null    object \n",
      " 2   cp        303 non-null    int64  \n",
      " 3   trestbps  299 non-null    float64\n",
      " 4   chol      302 non-null    float64\n",
      " 5   fbs       303 non-null    int64  \n",
      " 6   restecg   303 non-null    int64  \n",
      " 7   thalach   298 non-null    float64\n",
      " 8   exang     303 non-null    int64  \n",
      " 9   oldpeak   303 non-null    float64\n",
      " 10  slope     303 non-null    int64  \n",
      " 11  ca        303 non-null    int64  \n",
      " 12  thal      303 non-null    int64  \n",
      " 13  target    303 non-null    int64  \n",
      "dtypes: float64(4), int64(9), object(1)\n",
      "memory usage: 33.3+ KB\n"
     ]
    }
   ],
   "source": [
    "df.info()"
   ]
  },
  {
   "cell_type": "code",
   "execution_count": 143,
   "id": "07c876ed",
   "metadata": {},
   "outputs": [
    {
     "data": {
      "text/plain": [
       "age         0\n",
       "sex         0\n",
       "cp          0\n",
       "trestbps    0\n",
       "chol        0\n",
       "fbs         0\n",
       "restecg     0\n",
       "thalach     0\n",
       "exang       0\n",
       "oldpeak     0\n",
       "slope       0\n",
       "ca          0\n",
       "thal        0\n",
       "target      0\n",
       "dtype: int64"
      ]
     },
     "execution_count": 143,
     "metadata": {},
     "output_type": "execute_result"
    }
   ],
   "source": [
    "df.isnull().sum()"
   ]
  },
  {
   "cell_type": "code",
   "execution_count": 144,
   "id": "2b6fdbdb",
   "metadata": {},
   "outputs": [
    {
     "data": {
      "text/html": [
       "<div>\n",
       "<style scoped>\n",
       "    .dataframe tbody tr th:only-of-type {\n",
       "        vertical-align: middle;\n",
       "    }\n",
       "\n",
       "    .dataframe tbody tr th {\n",
       "        vertical-align: top;\n",
       "    }\n",
       "\n",
       "    .dataframe thead th {\n",
       "        text-align: right;\n",
       "    }\n",
       "</style>\n",
       "<table border=\"1\" class=\"dataframe\">\n",
       "  <thead>\n",
       "    <tr style=\"text-align: right;\">\n",
       "      <th></th>\n",
       "      <th>age</th>\n",
       "      <th>sex</th>\n",
       "      <th>cp</th>\n",
       "      <th>trestbps</th>\n",
       "      <th>chol</th>\n",
       "      <th>fbs</th>\n",
       "      <th>restecg</th>\n",
       "      <th>thalach</th>\n",
       "      <th>exang</th>\n",
       "      <th>oldpeak</th>\n",
       "      <th>slope</th>\n",
       "      <th>ca</th>\n",
       "      <th>thal</th>\n",
       "      <th>target</th>\n",
       "    </tr>\n",
       "  </thead>\n",
       "  <tbody>\n",
       "  </tbody>\n",
       "</table>\n",
       "</div>"
      ],
      "text/plain": [
       "Empty DataFrame\n",
       "Columns: [age, sex, cp, trestbps, chol, fbs, restecg, thalach, exang, oldpeak, slope, ca, thal, target]\n",
       "Index: []"
      ]
     },
     "execution_count": 144,
     "metadata": {},
     "output_type": "execute_result"
    }
   ],
   "source": [
    "df[df['trestbps'].isnull()]"
   ]
  },
  {
   "cell_type": "code",
   "execution_count": 145,
   "id": "d3871d53",
   "metadata": {},
   "outputs": [
    {
     "data": {
      "text/html": [
       "<div>\n",
       "<style scoped>\n",
       "    .dataframe tbody tr th:only-of-type {\n",
       "        vertical-align: middle;\n",
       "    }\n",
       "\n",
       "    .dataframe tbody tr th {\n",
       "        vertical-align: top;\n",
       "    }\n",
       "\n",
       "    .dataframe thead th {\n",
       "        text-align: right;\n",
       "    }\n",
       "</style>\n",
       "<table border=\"1\" class=\"dataframe\">\n",
       "  <thead>\n",
       "    <tr style=\"text-align: right;\">\n",
       "      <th></th>\n",
       "      <th>age</th>\n",
       "      <th>sex</th>\n",
       "      <th>cp</th>\n",
       "      <th>trestbps</th>\n",
       "      <th>chol</th>\n",
       "      <th>fbs</th>\n",
       "      <th>restecg</th>\n",
       "      <th>thalach</th>\n",
       "      <th>exang</th>\n",
       "      <th>oldpeak</th>\n",
       "      <th>slope</th>\n",
       "      <th>ca</th>\n",
       "      <th>thal</th>\n",
       "      <th>target</th>\n",
       "    </tr>\n",
       "  </thead>\n",
       "  <tbody>\n",
       "  </tbody>\n",
       "</table>\n",
       "</div>"
      ],
      "text/plain": [
       "Empty DataFrame\n",
       "Columns: [age, sex, cp, trestbps, chol, fbs, restecg, thalach, exang, oldpeak, slope, ca, thal, target]\n",
       "Index: []"
      ]
     },
     "execution_count": 145,
     "metadata": {},
     "output_type": "execute_result"
    }
   ],
   "source": [
    "df[df['thalach'].isnull()]"
   ]
  },
  {
   "cell_type": "code",
   "execution_count": 56,
   "id": "6760103c",
   "metadata": {},
   "outputs": [
    {
     "data": {
      "text/html": [
       "<div>\n",
       "<style scoped>\n",
       "    .dataframe tbody tr th:only-of-type {\n",
       "        vertical-align: middle;\n",
       "    }\n",
       "\n",
       "    .dataframe tbody tr th {\n",
       "        vertical-align: top;\n",
       "    }\n",
       "\n",
       "    .dataframe thead th {\n",
       "        text-align: right;\n",
       "    }\n",
       "</style>\n",
       "<table border=\"1\" class=\"dataframe\">\n",
       "  <thead>\n",
       "    <tr style=\"text-align: right;\">\n",
       "      <th></th>\n",
       "      <th>age</th>\n",
       "      <th>sex</th>\n",
       "      <th>cp</th>\n",
       "      <th>trestbps</th>\n",
       "      <th>chol</th>\n",
       "      <th>fbs</th>\n",
       "      <th>restecg</th>\n",
       "      <th>thalach</th>\n",
       "      <th>exang</th>\n",
       "      <th>oldpeak</th>\n",
       "      <th>slope</th>\n",
       "      <th>ca</th>\n",
       "      <th>thal</th>\n",
       "      <th>target</th>\n",
       "    </tr>\n",
       "  </thead>\n",
       "  <tbody>\n",
       "    <tr>\n",
       "      <th>261</th>\n",
       "      <td>52</td>\n",
       "      <td>male</td>\n",
       "      <td>0</td>\n",
       "      <td>112.0</td>\n",
       "      <td>NaN</td>\n",
       "      <td>0</td>\n",
       "      <td>1</td>\n",
       "      <td>160.0</td>\n",
       "      <td>0</td>\n",
       "      <td>0.0</td>\n",
       "      <td>2</td>\n",
       "      <td>1</td>\n",
       "      <td>2</td>\n",
       "      <td>0</td>\n",
       "    </tr>\n",
       "  </tbody>\n",
       "</table>\n",
       "</div>"
      ],
      "text/plain": [
       "     age   sex  cp  trestbps  chol  fbs  restecg  thalach  exang  oldpeak  \\\n",
       "261   52  male   0     112.0   NaN    0        1    160.0      0      0.0   \n",
       "\n",
       "     slope  ca  thal  target  \n",
       "261      2   1     2       0  "
      ]
     },
     "execution_count": 56,
     "metadata": {},
     "output_type": "execute_result"
    }
   ],
   "source": [
    "df[df['chol'].isnull()]"
   ]
  },
  {
   "cell_type": "code",
   "execution_count": 74,
   "id": "f4a8d099",
   "metadata": {},
   "outputs": [],
   "source": [
    "df['chol']=df['chol'].fillna(df['chol'].mean())"
   ]
  },
  {
   "cell_type": "code",
   "execution_count": 75,
   "id": "213e6583",
   "metadata": {},
   "outputs": [],
   "source": [
    "df['trestbps']=df['trestbps'].fillna(df['trestbps'].mean())\n",
    "df['thalach']=df['thalach'].fillna(df['thalach'].mean())"
   ]
  },
  {
   "cell_type": "code",
   "execution_count": 76,
   "id": "e3bb6eed",
   "metadata": {},
   "outputs": [
    {
     "data": {
      "text/plain": [
       "age         0\n",
       "sex         0\n",
       "cp          0\n",
       "trestbps    0\n",
       "chol        0\n",
       "fbs         0\n",
       "restecg     0\n",
       "thalach     0\n",
       "exang       0\n",
       "oldpeak     0\n",
       "slope       0\n",
       "ca          0\n",
       "thal        0\n",
       "target      0\n",
       "dtype: int64"
      ]
     },
     "execution_count": 76,
     "metadata": {},
     "output_type": "execute_result"
    }
   ],
   "source": [
    "df.isnull().sum()"
   ]
  },
  {
   "cell_type": "code",
   "execution_count": 78,
   "id": "7af151c1",
   "metadata": {},
   "outputs": [
    {
     "data": {
      "text/html": [
       "<div>\n",
       "<style scoped>\n",
       "    .dataframe tbody tr th:only-of-type {\n",
       "        vertical-align: middle;\n",
       "    }\n",
       "\n",
       "    .dataframe tbody tr th {\n",
       "        vertical-align: top;\n",
       "    }\n",
       "\n",
       "    .dataframe thead th {\n",
       "        text-align: right;\n",
       "    }\n",
       "</style>\n",
       "<table border=\"1\" class=\"dataframe\">\n",
       "  <thead>\n",
       "    <tr style=\"text-align: right;\">\n",
       "      <th></th>\n",
       "      <th>count</th>\n",
       "      <th>mean</th>\n",
       "      <th>std</th>\n",
       "      <th>min</th>\n",
       "      <th>25%</th>\n",
       "      <th>50%</th>\n",
       "      <th>75%</th>\n",
       "      <th>max</th>\n",
       "    </tr>\n",
       "  </thead>\n",
       "  <tbody>\n",
       "    <tr>\n",
       "      <th>age</th>\n",
       "      <td>303.0</td>\n",
       "      <td>54.366337</td>\n",
       "      <td>9.082101</td>\n",
       "      <td>29.0</td>\n",
       "      <td>47.5</td>\n",
       "      <td>55.0</td>\n",
       "      <td>61.0</td>\n",
       "      <td>77.0</td>\n",
       "    </tr>\n",
       "    <tr>\n",
       "      <th>cp</th>\n",
       "      <td>303.0</td>\n",
       "      <td>0.966997</td>\n",
       "      <td>1.032052</td>\n",
       "      <td>0.0</td>\n",
       "      <td>0.0</td>\n",
       "      <td>1.0</td>\n",
       "      <td>2.0</td>\n",
       "      <td>3.0</td>\n",
       "    </tr>\n",
       "    <tr>\n",
       "      <th>trestbps</th>\n",
       "      <td>303.0</td>\n",
       "      <td>131.712375</td>\n",
       "      <td>17.511894</td>\n",
       "      <td>94.0</td>\n",
       "      <td>120.0</td>\n",
       "      <td>130.0</td>\n",
       "      <td>140.0</td>\n",
       "      <td>200.0</td>\n",
       "    </tr>\n",
       "    <tr>\n",
       "      <th>chol</th>\n",
       "      <td>303.0</td>\n",
       "      <td>246.317881</td>\n",
       "      <td>51.822273</td>\n",
       "      <td>126.0</td>\n",
       "      <td>211.0</td>\n",
       "      <td>241.0</td>\n",
       "      <td>274.5</td>\n",
       "      <td>564.0</td>\n",
       "    </tr>\n",
       "    <tr>\n",
       "      <th>fbs</th>\n",
       "      <td>303.0</td>\n",
       "      <td>0.148515</td>\n",
       "      <td>0.356198</td>\n",
       "      <td>0.0</td>\n",
       "      <td>0.0</td>\n",
       "      <td>0.0</td>\n",
       "      <td>0.0</td>\n",
       "      <td>1.0</td>\n",
       "    </tr>\n",
       "    <tr>\n",
       "      <th>restecg</th>\n",
       "      <td>303.0</td>\n",
       "      <td>0.528053</td>\n",
       "      <td>0.525860</td>\n",
       "      <td>0.0</td>\n",
       "      <td>0.0</td>\n",
       "      <td>1.0</td>\n",
       "      <td>1.0</td>\n",
       "      <td>2.0</td>\n",
       "    </tr>\n",
       "    <tr>\n",
       "      <th>thalach</th>\n",
       "      <td>303.0</td>\n",
       "      <td>149.865772</td>\n",
       "      <td>22.376122</td>\n",
       "      <td>71.0</td>\n",
       "      <td>136.0</td>\n",
       "      <td>152.0</td>\n",
       "      <td>166.0</td>\n",
       "      <td>202.0</td>\n",
       "    </tr>\n",
       "    <tr>\n",
       "      <th>exang</th>\n",
       "      <td>303.0</td>\n",
       "      <td>0.326733</td>\n",
       "      <td>0.469794</td>\n",
       "      <td>0.0</td>\n",
       "      <td>0.0</td>\n",
       "      <td>0.0</td>\n",
       "      <td>1.0</td>\n",
       "      <td>1.0</td>\n",
       "    </tr>\n",
       "    <tr>\n",
       "      <th>oldpeak</th>\n",
       "      <td>303.0</td>\n",
       "      <td>1.039604</td>\n",
       "      <td>1.161075</td>\n",
       "      <td>0.0</td>\n",
       "      <td>0.0</td>\n",
       "      <td>0.8</td>\n",
       "      <td>1.6</td>\n",
       "      <td>6.2</td>\n",
       "    </tr>\n",
       "    <tr>\n",
       "      <th>slope</th>\n",
       "      <td>303.0</td>\n",
       "      <td>1.399340</td>\n",
       "      <td>0.616226</td>\n",
       "      <td>0.0</td>\n",
       "      <td>1.0</td>\n",
       "      <td>1.0</td>\n",
       "      <td>2.0</td>\n",
       "      <td>2.0</td>\n",
       "    </tr>\n",
       "    <tr>\n",
       "      <th>ca</th>\n",
       "      <td>303.0</td>\n",
       "      <td>0.729373</td>\n",
       "      <td>1.022606</td>\n",
       "      <td>0.0</td>\n",
       "      <td>0.0</td>\n",
       "      <td>0.0</td>\n",
       "      <td>1.0</td>\n",
       "      <td>4.0</td>\n",
       "    </tr>\n",
       "    <tr>\n",
       "      <th>thal</th>\n",
       "      <td>303.0</td>\n",
       "      <td>2.313531</td>\n",
       "      <td>0.612277</td>\n",
       "      <td>0.0</td>\n",
       "      <td>2.0</td>\n",
       "      <td>2.0</td>\n",
       "      <td>3.0</td>\n",
       "      <td>3.0</td>\n",
       "    </tr>\n",
       "    <tr>\n",
       "      <th>target</th>\n",
       "      <td>303.0</td>\n",
       "      <td>0.544554</td>\n",
       "      <td>0.498835</td>\n",
       "      <td>0.0</td>\n",
       "      <td>0.0</td>\n",
       "      <td>1.0</td>\n",
       "      <td>1.0</td>\n",
       "      <td>1.0</td>\n",
       "    </tr>\n",
       "  </tbody>\n",
       "</table>\n",
       "</div>"
      ],
      "text/plain": [
       "          count        mean        std    min    25%    50%    75%    max\n",
       "age       303.0   54.366337   9.082101   29.0   47.5   55.0   61.0   77.0\n",
       "cp        303.0    0.966997   1.032052    0.0    0.0    1.0    2.0    3.0\n",
       "trestbps  303.0  131.712375  17.511894   94.0  120.0  130.0  140.0  200.0\n",
       "chol      303.0  246.317881  51.822273  126.0  211.0  241.0  274.5  564.0\n",
       "fbs       303.0    0.148515   0.356198    0.0    0.0    0.0    0.0    1.0\n",
       "restecg   303.0    0.528053   0.525860    0.0    0.0    1.0    1.0    2.0\n",
       "thalach   303.0  149.865772  22.376122   71.0  136.0  152.0  166.0  202.0\n",
       "exang     303.0    0.326733   0.469794    0.0    0.0    0.0    1.0    1.0\n",
       "oldpeak   303.0    1.039604   1.161075    0.0    0.0    0.8    1.6    6.2\n",
       "slope     303.0    1.399340   0.616226    0.0    1.0    1.0    2.0    2.0\n",
       "ca        303.0    0.729373   1.022606    0.0    0.0    0.0    1.0    4.0\n",
       "thal      303.0    2.313531   0.612277    0.0    2.0    2.0    3.0    3.0\n",
       "target    303.0    0.544554   0.498835    0.0    0.0    1.0    1.0    1.0"
      ]
     },
     "execution_count": 78,
     "metadata": {},
     "output_type": "execute_result"
    }
   ],
   "source": [
    "df.describe().transpose()"
   ]
  },
  {
   "cell_type": "code",
   "execution_count": 79,
   "id": "3c34040c",
   "metadata": {},
   "outputs": [],
   "source": [
    "mymapsex={'male':1,'female':0}"
   ]
  },
  {
   "cell_type": "code",
   "execution_count": 80,
   "id": "36f0ad81",
   "metadata": {},
   "outputs": [],
   "source": [
    "df['sex']=df['sex'].map(mymapsex)"
   ]
  },
  {
   "cell_type": "code",
   "execution_count": 81,
   "id": "51a57500",
   "metadata": {},
   "outputs": [
    {
     "data": {
      "text/plain": [
       "1    207\n",
       "0     96\n",
       "Name: sex, dtype: int64"
      ]
     },
     "execution_count": 81,
     "metadata": {},
     "output_type": "execute_result"
    }
   ],
   "source": [
    "df['sex'].value_counts()"
   ]
  },
  {
   "cell_type": "code",
   "execution_count": 89,
   "id": "60ceaba4",
   "metadata": {},
   "outputs": [
    {
     "data": {
      "image/png": "[encoded data removed]",
      "text/plain": [
       "<Figure size 640x480 with 1 Axes>"
      ]
     },
     "metadata": {},
     "output_type": "display_data"
    }
   ],
   "source": [
    "sns.countplot(data=df,x=df['target'],hue='sex');\n",
    "\n",
    "plt.title('Heart Diesease Distribution for sex')\n",
    "plt.xlabel('0 = No Diesease , 1 = Diesease')\n",
    "plt.legend(['Female','Male'])\n",
    "plt.xticks(rotation=0);"
   ]
  },
  {
   "cell_type": "code",
   "execution_count": 83,
   "id": "32f8dfcd",
   "metadata": {},
   "outputs": [
    {
     "data": {
      "text/html": [
       "<div>\n",
       "<style scoped>\n",
       "    .dataframe tbody tr th:only-of-type {\n",
       "        vertical-align: middle;\n",
       "    }\n",
       "\n",
       "    .dataframe tbody tr th {\n",
       "        vertical-align: top;\n",
       "    }\n",
       "\n",
       "    .dataframe thead th {\n",
       "        text-align: right;\n",
       "    }\n",
       "</style>\n",
       "<table border=\"1\" class=\"dataframe\">\n",
       "  <thead>\n",
       "    <tr style=\"text-align: right;\">\n",
       "      <th>sex</th>\n",
       "      <th>0</th>\n",
       "      <th>1</th>\n",
       "    </tr>\n",
       "    <tr>\n",
       "      <th>target</th>\n",
       "      <th></th>\n",
       "      <th></th>\n",
       "    </tr>\n",
       "  </thead>\n",
       "  <tbody>\n",
       "    <tr>\n",
       "      <th>0</th>\n",
       "      <td>24</td>\n",
       "      <td>114</td>\n",
       "    </tr>\n",
       "    <tr>\n",
       "      <th>1</th>\n",
       "      <td>72</td>\n",
       "      <td>93</td>\n",
       "    </tr>\n",
       "  </tbody>\n",
       "</table>\n",
       "</div>"
      ],
      "text/plain": [
       "sex      0    1\n",
       "target         \n",
       "0       24  114\n",
       "1       72   93"
      ]
     },
     "execution_count": 83,
     "metadata": {},
     "output_type": "execute_result"
    }
   ],
   "source": [
    "pd.crosstab(df.target,df.sex)"
   ]
  },
  {
   "cell_type": "code",
   "execution_count": 90,
   "id": "b3beb751",
   "metadata": {},
   "outputs": [
    {
     "data": {
      "text/plain": [
       "162.0    11\n",
       "160.0     9\n",
       "152.0     8\n",
       "163.0     8\n",
       "173.0     8\n",
       "         ..\n",
       "113.0     1\n",
       "188.0     1\n",
       "185.0     1\n",
       "128.0     1\n",
       "129.0     1\n",
       "Name: thalach, Length: 90, dtype: int64"
      ]
     },
     "execution_count": 90,
     "metadata": {},
     "output_type": "execute_result"
    }
   ],
   "source": [
    "df['thalach'].value_counts()"
   ]
  },
  {
   "cell_type": "code",
   "execution_count": 272,
   "id": "305651d2",
   "metadata": {},
   "outputs": [
    {
     "data": {
      "text/plain": [
       "<matplotlib.legend.Legend at 0x284c5478148>"
      ]
     },
     "execution_count": 272,
     "metadata": {},
     "output_type": "execute_result"
    },
    {
     "data": {
      "image/png": "[encoded data removed]",
      "text/plain": [
       "<Figure size 1000x600 with 1 Axes>"
      ]
     },
     "metadata": {},
     "output_type": "display_data"
    }
   ],
   "source": [
    "# Age vs MAX HEART RATE for Heart Diesease\n",
    "\n",
    "plt.figure(figsize=(10,6))\n",
    "sns.scatterplot(data=df,x='age',y='thalach',hue='target');\n",
    "\n",
    "plt.title('Heart Disease in function of age and maximum heart rate')\n",
    "plt.xlabel('age')\n",
    "plt.ylabel('Maximum Heart Rate')\n",
    "plt.legend(['Diesease','no Diesease'])"
   ]
  },
  {
   "cell_type": "code",
   "execution_count": 273,
   "id": "1c3442ab",
   "metadata": {},
   "outputs": [
    {
     "data": {
      "text/plain": [
       "exang      -0.439354\n",
       "oldpeak    -0.427485\n",
       "ca         -0.387693\n",
       "thal       -0.359883\n",
       "sex        -0.281912\n",
       "age        -0.222644\n",
       "trestbps   -0.135321\n",
       "chol       -0.093046\n",
       "fbs        -0.028406\n",
       "restecg     0.131723\n",
       "slope       0.342514\n",
       "thalach     0.407779\n",
       "cp          0.432395\n",
       "target      1.000000\n",
       "Name: target, dtype: float64"
      ]
     },
     "execution_count": 273,
     "metadata": {},
     "output_type": "execute_result"
    }
   ],
   "source": [
    "df.corr()['target'].sort_values()"
   ]
  },
  {
   "cell_type": "code",
   "execution_count": 111,
   "id": "b0790960",
   "metadata": {},
   "outputs": [
    {
     "data": {
      "text/plain": [
       "<AxesSubplot:xlabel='age', ylabel='Count'>"
      ]
     },
     "execution_count": 111,
     "metadata": {},
     "output_type": "execute_result"
    },
    {
     "data": {
      "image/png": "[encoded data removed]",
      "text/plain": [
       "<Figure size 1000x600 with 1 Axes>"
      ]
     },
     "metadata": {},
     "output_type": "display_data"
    }
   ],
   "source": [
    "plt.figure(figsize=(10,6))\n",
    "sns.histplot(x='age',data=df)"
   ]
  },
  {
   "cell_type": "code",
   "execution_count": 112,
   "id": "d1cb51e3",
   "metadata": {},
   "outputs": [
    {
     "data": {
      "image/png": "[encoded data removed]",
      "text/plain": [
       "<Figure size 640x480 with 1 Axes>"
      ]
     },
     "metadata": {},
     "output_type": "display_data"
    }
   ],
   "source": [
    "sns.countplot(data=df,x=df['cp'],hue='target');"
   ]
  },
  {
   "cell_type": "code",
   "execution_count": 113,
   "id": "8d73257f",
   "metadata": {},
   "outputs": [
    {
     "data": {
      "text/html": [
       "<div>\n",
       "<style scoped>\n",
       "    .dataframe tbody tr th:only-of-type {\n",
       "        vertical-align: middle;\n",
       "    }\n",
       "\n",
       "    .dataframe tbody tr th {\n",
       "        vertical-align: top;\n",
       "    }\n",
       "\n",
       "    .dataframe thead th {\n",
       "        text-align: right;\n",
       "    }\n",
       "</style>\n",
       "<table border=\"1\" class=\"dataframe\">\n",
       "  <thead>\n",
       "    <tr style=\"text-align: right;\">\n",
       "      <th></th>\n",
       "      <th>age</th>\n",
       "      <th>sex</th>\n",
       "      <th>cp</th>\n",
       "      <th>trestbps</th>\n",
       "      <th>chol</th>\n",
       "      <th>fbs</th>\n",
       "      <th>restecg</th>\n",
       "      <th>thalach</th>\n",
       "      <th>exang</th>\n",
       "      <th>oldpeak</th>\n",
       "      <th>slope</th>\n",
       "      <th>ca</th>\n",
       "      <th>thal</th>\n",
       "      <th>target</th>\n",
       "    </tr>\n",
       "  </thead>\n",
       "  <tbody>\n",
       "    <tr>\n",
       "      <th>age</th>\n",
       "      <td>1.000000</td>\n",
       "      <td>-0.098447</td>\n",
       "      <td>-0.068653</td>\n",
       "      <td>0.279321</td>\n",
       "      <td>0.213441</td>\n",
       "      <td>0.121308</td>\n",
       "      <td>-0.116211</td>\n",
       "      <td>-0.394370</td>\n",
       "      <td>0.096801</td>\n",
       "      <td>0.210013</td>\n",
       "      <td>-0.168814</td>\n",
       "      <td>0.276326</td>\n",
       "      <td>0.068001</td>\n",
       "      <td>-0.225439</td>\n",
       "    </tr>\n",
       "    <tr>\n",
       "      <th>sex</th>\n",
       "      <td>-0.098447</td>\n",
       "      <td>1.000000</td>\n",
       "      <td>-0.049353</td>\n",
       "      <td>-0.063602</td>\n",
       "      <td>-0.197236</td>\n",
       "      <td>0.045032</td>\n",
       "      <td>-0.058196</td>\n",
       "      <td>-0.051004</td>\n",
       "      <td>0.141664</td>\n",
       "      <td>0.096093</td>\n",
       "      <td>-0.030711</td>\n",
       "      <td>0.118261</td>\n",
       "      <td>0.210041</td>\n",
       "      <td>-0.280937</td>\n",
       "    </tr>\n",
       "    <tr>\n",
       "      <th>cp</th>\n",
       "      <td>-0.068653</td>\n",
       "      <td>-0.049353</td>\n",
       "      <td>1.000000</td>\n",
       "      <td>0.047841</td>\n",
       "      <td>-0.077894</td>\n",
       "      <td>0.094444</td>\n",
       "      <td>0.044421</td>\n",
       "      <td>0.299178</td>\n",
       "      <td>-0.394280</td>\n",
       "      <td>-0.149230</td>\n",
       "      <td>0.119717</td>\n",
       "      <td>-0.181053</td>\n",
       "      <td>-0.161736</td>\n",
       "      <td>0.433798</td>\n",
       "    </tr>\n",
       "    <tr>\n",
       "      <th>trestbps</th>\n",
       "      <td>0.279321</td>\n",
       "      <td>-0.063602</td>\n",
       "      <td>0.047841</td>\n",
       "      <td>1.000000</td>\n",
       "      <td>0.124985</td>\n",
       "      <td>0.175680</td>\n",
       "      <td>-0.110333</td>\n",
       "      <td>-0.029408</td>\n",
       "      <td>0.069590</td>\n",
       "      <td>0.193631</td>\n",
       "      <td>-0.120827</td>\n",
       "      <td>0.098237</td>\n",
       "      <td>0.060232</td>\n",
       "      <td>-0.141162</td>\n",
       "    </tr>\n",
       "    <tr>\n",
       "      <th>chol</th>\n",
       "      <td>0.213441</td>\n",
       "      <td>-0.197236</td>\n",
       "      <td>-0.077894</td>\n",
       "      <td>0.124985</td>\n",
       "      <td>1.000000</td>\n",
       "      <td>0.012861</td>\n",
       "      <td>-0.150129</td>\n",
       "      <td>-0.022730</td>\n",
       "      <td>0.066309</td>\n",
       "      <td>0.053027</td>\n",
       "      <td>-0.003022</td>\n",
       "      <td>0.070798</td>\n",
       "      <td>0.098285</td>\n",
       "      <td>-0.086391</td>\n",
       "    </tr>\n",
       "    <tr>\n",
       "      <th>fbs</th>\n",
       "      <td>0.121308</td>\n",
       "      <td>0.045032</td>\n",
       "      <td>0.094444</td>\n",
       "      <td>0.175680</td>\n",
       "      <td>0.012861</td>\n",
       "      <td>1.000000</td>\n",
       "      <td>-0.084189</td>\n",
       "      <td>0.001567</td>\n",
       "      <td>0.025665</td>\n",
       "      <td>0.005747</td>\n",
       "      <td>-0.059894</td>\n",
       "      <td>0.137979</td>\n",
       "      <td>-0.032019</td>\n",
       "      <td>-0.028046</td>\n",
       "    </tr>\n",
       "    <tr>\n",
       "      <th>restecg</th>\n",
       "      <td>-0.116211</td>\n",
       "      <td>-0.058196</td>\n",
       "      <td>0.044421</td>\n",
       "      <td>-0.110333</td>\n",
       "      <td>-0.150129</td>\n",
       "      <td>-0.084189</td>\n",
       "      <td>1.000000</td>\n",
       "      <td>0.037129</td>\n",
       "      <td>-0.070733</td>\n",
       "      <td>-0.058770</td>\n",
       "      <td>0.093045</td>\n",
       "      <td>-0.072042</td>\n",
       "      <td>-0.011981</td>\n",
       "      <td>0.137230</td>\n",
       "    </tr>\n",
       "    <tr>\n",
       "      <th>thalach</th>\n",
       "      <td>-0.394370</td>\n",
       "      <td>-0.051004</td>\n",
       "      <td>0.299178</td>\n",
       "      <td>-0.029408</td>\n",
       "      <td>-0.022730</td>\n",
       "      <td>0.001567</td>\n",
       "      <td>0.037129</td>\n",
       "      <td>1.000000</td>\n",
       "      <td>-0.394595</td>\n",
       "      <td>-0.345398</td>\n",
       "      <td>0.378425</td>\n",
       "      <td>-0.207516</td>\n",
       "      <td>-0.105437</td>\n",
       "      <td>0.409645</td>\n",
       "    </tr>\n",
       "    <tr>\n",
       "      <th>exang</th>\n",
       "      <td>0.096801</td>\n",
       "      <td>0.141664</td>\n",
       "      <td>-0.394280</td>\n",
       "      <td>0.069590</td>\n",
       "      <td>0.066309</td>\n",
       "      <td>0.025665</td>\n",
       "      <td>-0.070733</td>\n",
       "      <td>-0.394595</td>\n",
       "      <td>1.000000</td>\n",
       "      <td>0.288223</td>\n",
       "      <td>-0.257748</td>\n",
       "      <td>0.115739</td>\n",
       "      <td>0.206754</td>\n",
       "      <td>-0.436757</td>\n",
       "    </tr>\n",
       "    <tr>\n",
       "      <th>oldpeak</th>\n",
       "      <td>0.210013</td>\n",
       "      <td>0.096093</td>\n",
       "      <td>-0.149230</td>\n",
       "      <td>0.193631</td>\n",
       "      <td>0.053027</td>\n",
       "      <td>0.005747</td>\n",
       "      <td>-0.058770</td>\n",
       "      <td>-0.345398</td>\n",
       "      <td>0.288223</td>\n",
       "      <td>1.000000</td>\n",
       "      <td>-0.577537</td>\n",
       "      <td>0.222682</td>\n",
       "      <td>0.210244</td>\n",
       "      <td>-0.430696</td>\n",
       "    </tr>\n",
       "    <tr>\n",
       "      <th>slope</th>\n",
       "      <td>-0.168814</td>\n",
       "      <td>-0.030711</td>\n",
       "      <td>0.119717</td>\n",
       "      <td>-0.120827</td>\n",
       "      <td>-0.003022</td>\n",
       "      <td>-0.059894</td>\n",
       "      <td>0.093045</td>\n",
       "      <td>0.378425</td>\n",
       "      <td>-0.257748</td>\n",
       "      <td>-0.577537</td>\n",
       "      <td>1.000000</td>\n",
       "      <td>-0.080155</td>\n",
       "      <td>-0.104764</td>\n",
       "      <td>0.345877</td>\n",
       "    </tr>\n",
       "    <tr>\n",
       "      <th>ca</th>\n",
       "      <td>0.276326</td>\n",
       "      <td>0.118261</td>\n",
       "      <td>-0.181053</td>\n",
       "      <td>0.098237</td>\n",
       "      <td>0.070798</td>\n",
       "      <td>0.137979</td>\n",
       "      <td>-0.072042</td>\n",
       "      <td>-0.207516</td>\n",
       "      <td>0.115739</td>\n",
       "      <td>0.222682</td>\n",
       "      <td>-0.080155</td>\n",
       "      <td>1.000000</td>\n",
       "      <td>0.151832</td>\n",
       "      <td>-0.391724</td>\n",
       "    </tr>\n",
       "    <tr>\n",
       "      <th>thal</th>\n",
       "      <td>0.068001</td>\n",
       "      <td>0.210041</td>\n",
       "      <td>-0.161736</td>\n",
       "      <td>0.060232</td>\n",
       "      <td>0.098285</td>\n",
       "      <td>-0.032019</td>\n",
       "      <td>-0.011981</td>\n",
       "      <td>-0.105437</td>\n",
       "      <td>0.206754</td>\n",
       "      <td>0.210244</td>\n",
       "      <td>-0.104764</td>\n",
       "      <td>0.151832</td>\n",
       "      <td>1.000000</td>\n",
       "      <td>-0.344029</td>\n",
       "    </tr>\n",
       "    <tr>\n",
       "      <th>target</th>\n",
       "      <td>-0.225439</td>\n",
       "      <td>-0.280937</td>\n",
       "      <td>0.433798</td>\n",
       "      <td>-0.141162</td>\n",
       "      <td>-0.086391</td>\n",
       "      <td>-0.028046</td>\n",
       "      <td>0.137230</td>\n",
       "      <td>0.409645</td>\n",
       "      <td>-0.436757</td>\n",
       "      <td>-0.430696</td>\n",
       "      <td>0.345877</td>\n",
       "      <td>-0.391724</td>\n",
       "      <td>-0.344029</td>\n",
       "      <td>1.000000</td>\n",
       "    </tr>\n",
       "  </tbody>\n",
       "</table>\n",
       "</div>"
      ],
      "text/plain": [
       "               age       sex        cp  trestbps      chol       fbs  \\\n",
       "age       1.000000 -0.098447 -0.068653  0.279321  0.213441  0.121308   \n",
       "sex      -0.098447  1.000000 -0.049353 -0.063602 -0.197236  0.045032   \n",
       "cp       -0.068653 -0.049353  1.000000  0.047841 -0.077894  0.094444   \n",
       "trestbps  0.279321 -0.063602  0.047841  1.000000  0.124985  0.175680   \n",
       "chol      0.213441 -0.197236 -0.077894  0.124985  1.000000  0.012861   \n",
       "fbs       0.121308  0.045032  0.094444  0.175680  0.012861  1.000000   \n",
       "restecg  -0.116211 -0.058196  0.044421 -0.110333 -0.150129 -0.084189   \n",
       "thalach  -0.394370 -0.051004  0.299178 -0.029408 -0.022730  0.001567   \n",
       "exang     0.096801  0.141664 -0.394280  0.069590  0.066309  0.025665   \n",
       "oldpeak   0.210013  0.096093 -0.149230  0.193631  0.053027  0.005747   \n",
       "slope    -0.168814 -0.030711  0.119717 -0.120827 -0.003022 -0.059894   \n",
       "ca        0.276326  0.118261 -0.181053  0.098237  0.070798  0.137979   \n",
       "thal      0.068001  0.210041 -0.161736  0.060232  0.098285 -0.032019   \n",
       "target   -0.225439 -0.280937  0.433798 -0.141162 -0.086391 -0.028046   \n",
       "\n",
       "           restecg   thalach     exang   oldpeak     slope        ca  \\\n",
       "age      -0.116211 -0.394370  0.096801  0.210013 -0.168814  0.276326   \n",
       "sex      -0.058196 -0.051004  0.141664  0.096093 -0.030711  0.118261   \n",
       "cp        0.044421  0.299178 -0.394280 -0.149230  0.119717 -0.181053   \n",
       "trestbps -0.110333 -0.029408  0.069590  0.193631 -0.120827  0.098237   \n",
       "chol     -0.150129 -0.022730  0.066309  0.053027 -0.003022  0.070798   \n",
       "fbs      -0.084189  0.001567  0.025665  0.005747 -0.059894  0.137979   \n",
       "restecg   1.000000  0.037129 -0.070733 -0.058770  0.093045 -0.072042   \n",
       "thalach   0.037129  1.000000 -0.394595 -0.345398  0.378425 -0.207516   \n",
       "exang    -0.070733 -0.394595  1.000000  0.288223 -0.257748  0.115739   \n",
       "oldpeak  -0.058770 -0.345398  0.288223  1.000000 -0.577537  0.222682   \n",
       "slope     0.093045  0.378425 -0.257748 -0.577537  1.000000 -0.080155   \n",
       "ca       -0.072042 -0.207516  0.115739  0.222682 -0.080155  1.000000   \n",
       "thal     -0.011981 -0.105437  0.206754  0.210244 -0.104764  0.151832   \n",
       "target    0.137230  0.409645 -0.436757 -0.430696  0.345877 -0.391724   \n",
       "\n",
       "              thal    target  \n",
       "age       0.068001 -0.225439  \n",
       "sex       0.210041 -0.280937  \n",
       "cp       -0.161736  0.433798  \n",
       "trestbps  0.060232 -0.141162  \n",
       "chol      0.098285 -0.086391  \n",
       "fbs      -0.032019 -0.028046  \n",
       "restecg  -0.011981  0.137230  \n",
       "thalach  -0.105437  0.409645  \n",
       "exang     0.206754 -0.436757  \n",
       "oldpeak   0.210244 -0.430696  \n",
       "slope    -0.104764  0.345877  \n",
       "ca        0.151832 -0.391724  \n",
       "thal      1.000000 -0.344029  \n",
       "target   -0.344029  1.000000  "
      ]
     },
     "execution_count": 113,
     "metadata": {},
     "output_type": "execute_result"
    }
   ],
   "source": [
    "df.corr()"
   ]
  },
  {
   "cell_type": "code",
   "execution_count": 120,
   "id": "772fa21f",
   "metadata": {
    "scrolled": true
   },
   "outputs": [
    {
     "data": {
      "text/plain": [
       "<AxesSubplot:>"
      ]
     },
     "execution_count": 120,
     "metadata": {},
     "output_type": "execute_result"
    },
    {
     "data": {
      "image/png": "[encoded data removed]",
      "text/plain": [
       "<Figure size 1200x800 with 2 Axes>"
      ]
     },
     "metadata": {},
     "output_type": "display_data"
    }
   ],
   "source": [
    "plt.figure(figsize=(12,8))\n",
    "sns.heatmap(df.corr(),cmap='viridis',annot=True,)"
   ]
  },
  {
   "cell_type": "code",
   "execution_count": 146,
   "id": "eb06f7c9",
   "metadata": {},
   "outputs": [
    {
     "data": {
      "text/html": [
       "<div>\n",
       "<style scoped>\n",
       "    .dataframe tbody tr th:only-of-type {\n",
       "        vertical-align: middle;\n",
       "    }\n",
       "\n",
       "    .dataframe tbody tr th {\n",
       "        vertical-align: top;\n",
       "    }\n",
       "\n",
       "    .dataframe thead th {\n",
       "        text-align: right;\n",
       "    }\n",
       "</style>\n",
       "<table border=\"1\" class=\"dataframe\">\n",
       "  <thead>\n",
       "    <tr style=\"text-align: right;\">\n",
       "      <th></th>\n",
       "      <th>age</th>\n",
       "      <th>sex</th>\n",
       "      <th>cp</th>\n",
       "      <th>trestbps</th>\n",
       "      <th>chol</th>\n",
       "      <th>fbs</th>\n",
       "      <th>restecg</th>\n",
       "      <th>thalach</th>\n",
       "      <th>exang</th>\n",
       "      <th>oldpeak</th>\n",
       "      <th>slope</th>\n",
       "      <th>ca</th>\n",
       "      <th>thal</th>\n",
       "      <th>target</th>\n",
       "    </tr>\n",
       "  </thead>\n",
       "  <tbody>\n",
       "    <tr>\n",
       "      <th>0</th>\n",
       "      <td>63</td>\n",
       "      <td>1</td>\n",
       "      <td>3</td>\n",
       "      <td>145.000000</td>\n",
       "      <td>233.0</td>\n",
       "      <td>1</td>\n",
       "      <td>0</td>\n",
       "      <td>150.0</td>\n",
       "      <td>0</td>\n",
       "      <td>2.3</td>\n",
       "      <td>0</td>\n",
       "      <td>0</td>\n",
       "      <td>1</td>\n",
       "      <td>1</td>\n",
       "    </tr>\n",
       "    <tr>\n",
       "      <th>1</th>\n",
       "      <td>37</td>\n",
       "      <td>1</td>\n",
       "      <td>2</td>\n",
       "      <td>130.000000</td>\n",
       "      <td>250.0</td>\n",
       "      <td>0</td>\n",
       "      <td>1</td>\n",
       "      <td>187.0</td>\n",
       "      <td>0</td>\n",
       "      <td>3.5</td>\n",
       "      <td>0</td>\n",
       "      <td>0</td>\n",
       "      <td>2</td>\n",
       "      <td>1</td>\n",
       "    </tr>\n",
       "    <tr>\n",
       "      <th>2</th>\n",
       "      <td>41</td>\n",
       "      <td>0</td>\n",
       "      <td>1</td>\n",
       "      <td>130.000000</td>\n",
       "      <td>204.0</td>\n",
       "      <td>0</td>\n",
       "      <td>0</td>\n",
       "      <td>172.0</td>\n",
       "      <td>0</td>\n",
       "      <td>1.4</td>\n",
       "      <td>2</td>\n",
       "      <td>0</td>\n",
       "      <td>2</td>\n",
       "      <td>1</td>\n",
       "    </tr>\n",
       "    <tr>\n",
       "      <th>3</th>\n",
       "      <td>56</td>\n",
       "      <td>1</td>\n",
       "      <td>1</td>\n",
       "      <td>120.000000</td>\n",
       "      <td>236.0</td>\n",
       "      <td>0</td>\n",
       "      <td>1</td>\n",
       "      <td>178.0</td>\n",
       "      <td>0</td>\n",
       "      <td>0.8</td>\n",
       "      <td>2</td>\n",
       "      <td>0</td>\n",
       "      <td>2</td>\n",
       "      <td>1</td>\n",
       "    </tr>\n",
       "    <tr>\n",
       "      <th>4</th>\n",
       "      <td>57</td>\n",
       "      <td>0</td>\n",
       "      <td>0</td>\n",
       "      <td>131.712375</td>\n",
       "      <td>354.0</td>\n",
       "      <td>0</td>\n",
       "      <td>1</td>\n",
       "      <td>163.0</td>\n",
       "      <td>1</td>\n",
       "      <td>0.6</td>\n",
       "      <td>2</td>\n",
       "      <td>0</td>\n",
       "      <td>2</td>\n",
       "      <td>1</td>\n",
       "    </tr>\n",
       "  </tbody>\n",
       "</table>\n",
       "</div>"
      ],
      "text/plain": [
       "   age  sex  cp    trestbps   chol  fbs  restecg  thalach  exang  oldpeak  \\\n",
       "0   63    1   3  145.000000  233.0    1        0    150.0      0      2.3   \n",
       "1   37    1   2  130.000000  250.0    0        1    187.0      0      3.5   \n",
       "2   41    0   1  130.000000  204.0    0        0    172.0      0      1.4   \n",
       "3   56    1   1  120.000000  236.0    0        1    178.0      0      0.8   \n",
       "4   57    0   0  131.712375  354.0    0        1    163.0      1      0.6   \n",
       "\n",
       "   slope  ca  thal  target  \n",
       "0      0   0     1       1  \n",
       "1      0   0     2       1  \n",
       "2      2   0     2       1  \n",
       "3      2   0     2       1  \n",
       "4      2   0     2       1  "
      ]
     },
     "execution_count": 146,
     "metadata": {},
     "output_type": "execute_result"
    }
   ],
   "source": [
    "df.head()"
   ]
  },
  {
   "cell_type": "code",
   "execution_count": 200,
   "id": "f6397352",
   "metadata": {},
   "outputs": [
    {
     "data": {
      "text/plain": [
       "(301, 14)"
      ]
     },
     "execution_count": 200,
     "metadata": {},
     "output_type": "execute_result"
    }
   ],
   "source": [
    "df.shape"
   ]
  },
  {
   "cell_type": "code",
   "execution_count": 274,
   "id": "f8bc9e27",
   "metadata": {},
   "outputs": [],
   "source": [
    "X=df.drop('target',axis=1)\n",
    "y=df['target']"
   ]
  },
  {
   "cell_type": "code",
   "execution_count": 165,
   "id": "47255577",
   "metadata": {},
   "outputs": [],
   "source": [
    "# Split data into Train and Test set"
   ]
  },
  {
   "cell_type": "code",
   "execution_count": 275,
   "id": "ec279621",
   "metadata": {},
   "outputs": [],
   "source": [
    "X_train, X_test, y_train, y_test = train_test_split(X, y, test_size=0.10, random_state=42)"
   ]
  },
  {
   "cell_type": "code",
   "execution_count": 241,
   "id": "67999653",
   "metadata": {},
   "outputs": [
    {
     "data": {
      "text/plain": [
       "(270, 13)"
      ]
     },
     "execution_count": 241,
     "metadata": {},
     "output_type": "execute_result"
    }
   ],
   "source": [
    "X_train.shape"
   ]
  },
  {
   "cell_type": "code",
   "execution_count": 242,
   "id": "ccf153e6",
   "metadata": {},
   "outputs": [
    {
     "data": {
      "text/plain": [
       "(31, 13)"
      ]
     },
     "execution_count": 242,
     "metadata": {},
     "output_type": "execute_result"
    }
   ],
   "source": [
    "X_test.shape"
   ]
  },
  {
   "cell_type": "markdown",
   "id": "552ef956",
   "metadata": {},
   "source": [
    "Now we've got our data split into training and test sets, it's time to build a machine learning model.\n",
    "\n",
    "We'll train it (find the patterns) on the training set.\n",
    "\n",
    "And we'll test it (use the patterns) on the test set.\n",
    "\n",
    "We're going to try 3 different machine learning models:\n",
    "\n",
    "Logistic Regression\n",
    "K-Nearest Neighbours Classifier\n",
    "Random Forest Classifier"
   ]
  },
  {
   "cell_type": "markdown",
   "id": "06a6bab9",
   "metadata": {},
   "source": [
    "# Logistic Regression"
   ]
  },
  {
   "cell_type": "code",
   "execution_count": 290,
   "id": "c2eff65c",
   "metadata": {},
   "outputs": [],
   "source": [
    "\n",
    "\n",
    "# fit the model:\n",
    "log_model=LogisticRegression(max_iter=5000,solver='saga',multi_class='ovr')\n"
   ]
  },
  {
   "cell_type": "code",
   "execution_count": 260,
   "id": "40a90a77",
   "metadata": {},
   "outputs": [],
   "source": [
    "# predict the model:\n",
    "y_pred_log=log_model.predict(X_test)"
   ]
  },
  {
   "cell_type": "markdown",
   "id": "0a857da3",
   "metadata": {},
   "source": [
    "### evaluate the model:\n"
   ]
  },
  {
   "cell_type": "code",
   "execution_count": 259,
   "id": "ac3e3060",
   "metadata": {},
   "outputs": [
    {
     "data": {
      "text/plain": [
       "array([[-0.00391691, -0.31240209,  0.5455379 , -0.01429472, -0.00194704,\n",
       "         0.01031469,  0.08518409,  0.02497039, -0.2567098 , -0.41390198,\n",
       "         0.17358324, -0.44559701, -0.3570733 ]])"
      ]
     },
     "execution_count": 259,
     "metadata": {},
     "output_type": "execute_result"
    }
   ],
   "source": [
    "log_model.coef_"
   ]
  },
  {
   "cell_type": "code",
   "execution_count": 261,
   "id": "d0b13a1d",
   "metadata": {},
   "outputs": [
    {
     "data": {
      "text/plain": [
       "0.8709677419354839"
      ]
     },
     "execution_count": 261,
     "metadata": {},
     "output_type": "execute_result"
    }
   ],
   "source": [
    "accuracy_score(y_test,y_pred_log)"
   ]
  },
  {
   "cell_type": "code",
   "execution_count": 262,
   "id": "e7ce40ad",
   "metadata": {},
   "outputs": [
    {
     "name": "stdout",
     "output_type": "stream",
     "text": [
      "              precision    recall  f1-score   support\n",
      "\n",
      "           0       0.83      0.83      0.83        12\n",
      "           1       0.89      0.89      0.89        19\n",
      "\n",
      "    accuracy                           0.87        31\n",
      "   macro avg       0.86      0.86      0.86        31\n",
      "weighted avg       0.87      0.87      0.87        31\n",
      "\n"
     ]
    }
   ],
   "source": [
    "print(classification_report(y_test,y_pred_log))"
   ]
  },
  {
   "cell_type": "code",
   "execution_count": 214,
   "id": "b41ff7db",
   "metadata": {},
   "outputs": [
    {
     "data": {
      "text/plain": [
       "array([[10,  2],\n",
       "       [ 2, 17]], dtype=int64)"
      ]
     },
     "execution_count": 214,
     "metadata": {},
     "output_type": "execute_result"
    }
   ],
   "source": [
    "confusion_matrix(y_test,y_pred_log)"
   ]
  },
  {
   "cell_type": "code",
   "execution_count": 215,
   "id": "e59e6f2e",
   "metadata": {},
   "outputs": [
    {
     "data": {
      "text/plain": [
       "0.8947368421052632"
      ]
     },
     "execution_count": 215,
     "metadata": {},
     "output_type": "execute_result"
    }
   ],
   "source": [
    "f1_score(y_test,y_pred_log)"
   ]
  },
  {
   "cell_type": "code",
   "execution_count": 217,
   "id": "658692d8",
   "metadata": {},
   "outputs": [
    {
     "data": {
      "text/plain": [
       "<sklearn.metrics._plot.roc_curve.RocCurveDisplay at 0x284c542a248>"
      ]
     },
     "execution_count": 217,
     "metadata": {},
     "output_type": "execute_result"
    },
    {
     "data": {
      "image/png": "[encoded data removed]",
      "text/plain": [
       "<Figure size 640x480 with 1 Axes>"
      ]
     },
     "metadata": {},
     "output_type": "display_data"
    }
   ],
   "source": [
    "plot_roc_curve(log_model,X_test,y_test)"
   ]
  },
  {
   "cell_type": "code",
   "execution_count": 218,
   "id": "45458201",
   "metadata": {},
   "outputs": [
    {
     "data": {
      "text/plain": [
       "<sklearn.metrics._plot.precision_recall_curve.PrecisionRecallDisplay at 0x284c540fa08>"
      ]
     },
     "execution_count": 218,
     "metadata": {},
     "output_type": "execute_result"
    },
    {
     "data": {
      "image/png": "[encoded data removed]",
      "text/plain": [
       "<Figure size 640x480 with 1 Axes>"
      ]
     },
     "metadata": {},
     "output_type": "display_data"
    }
   ],
   "source": [
    "plot_precision_recall_curve(log_model,X_test,y_test)"
   ]
  },
  {
   "cell_type": "markdown",
   "id": "07b14521",
   "metadata": {},
   "source": [
    "# K Nearest KNeighbors Classifier\n"
   ]
  },
  {
   "cell_type": "code",
   "execution_count": 371,
   "id": "ab328966",
   "metadata": {},
   "outputs": [],
   "source": [
    "knn_model=KNeighborsClassifier(n_neighbors=14)"
   ]
  },
  {
   "cell_type": "markdown",
   "id": "c259335b",
   "metadata": {},
   "source": [
    "## Fit and predict the model"
   ]
  },
  {
   "cell_type": "code",
   "execution_count": 372,
   "id": "01fcd55d",
   "metadata": {},
   "outputs": [
    {
     "data": {
      "text/plain": [
       "KNeighborsClassifier(n_neighbors=14)"
      ]
     },
     "execution_count": 372,
     "metadata": {},
     "output_type": "execute_result"
    }
   ],
   "source": [
    "knn_model.fit(X_train,y_train)"
   ]
  },
  {
   "cell_type": "code",
   "execution_count": 373,
   "id": "3dca0529",
   "metadata": {},
   "outputs": [],
   "source": [
    "y_knn_pred=knn_model.predict(X_test)"
   ]
  },
  {
   "cell_type": "code",
   "execution_count": 374,
   "id": "92eaa762",
   "metadata": {},
   "outputs": [
    {
     "data": {
      "text/plain": [
       "0.7419354838709677"
      ]
     },
     "execution_count": 374,
     "metadata": {},
     "output_type": "execute_result"
    }
   ],
   "source": [
    "accuracy_score(y_test,y_knn_pred)"
   ]
  },
  {
   "cell_type": "code",
   "execution_count": 375,
   "id": "eac5484d",
   "metadata": {},
   "outputs": [
    {
     "data": {
      "text/plain": [
       "array([[11,  1],\n",
       "       [ 7, 12]], dtype=int64)"
      ]
     },
     "execution_count": 375,
     "metadata": {},
     "output_type": "execute_result"
    }
   ],
   "source": [
    "confusion_matrix(y_test,y_knn_pred)"
   ]
  },
  {
   "cell_type": "code",
   "execution_count": 376,
   "id": "938fe2b0",
   "metadata": {},
   "outputs": [
    {
     "name": "stdout",
     "output_type": "stream",
     "text": [
      "              precision    recall  f1-score   support\n",
      "\n",
      "           0       0.61      0.92      0.73        12\n",
      "           1       0.92      0.63      0.75        19\n",
      "\n",
      "    accuracy                           0.74        31\n",
      "   macro avg       0.77      0.77      0.74        31\n",
      "weighted avg       0.80      0.74      0.74        31\n",
      "\n"
     ]
    }
   ],
   "source": [
    "print(classification_report(y_test,y_knn_pred))"
   ]
  },
  {
   "cell_type": "markdown",
   "id": "5afe06fa",
   "metadata": {},
   "source": [
    "### use elbow method to get the optimum number of Neighbors "
   ]
  },
  {
   "cell_type": "code",
   "execution_count": 363,
   "id": "0f58427c",
   "metadata": {},
   "outputs": [],
   "source": [
    "test_error_rate=[]\n",
    "for k in range(1,30):\n",
    "    knn_model=KNeighborsClassifier(n_neighbors=k)\n",
    "    knn_model.fit(X_train,y_train)\n",
    "    y_knn_pred=knn_model.predict(X_test)\n",
    "    errors=1-accuracy_score(y_test,y_knn_pred)\n",
    "    test_error_rate.append(errors)"
   ]
  },
  {
   "cell_type": "code",
   "execution_count": 364,
   "id": "3f44a92f",
   "metadata": {},
   "outputs": [
    {
     "data": {
      "text/plain": [
       "[0.4193548387096774,\n",
       " 0.3548387096774194,\n",
       " 0.3870967741935484,\n",
       " 0.25806451612903225,\n",
       " 0.29032258064516125,\n",
       " 0.32258064516129037,\n",
       " 0.32258064516129037,\n",
       " 0.32258064516129037,\n",
       " 0.29032258064516125,\n",
       " 0.32258064516129037,\n",
       " 0.29032258064516125,\n",
       " 0.25806451612903225,\n",
       " 0.32258064516129037,\n",
       " 0.25806451612903225,\n",
       " 0.29032258064516125,\n",
       " 0.29032258064516125,\n",
       " 0.29032258064516125,\n",
       " 0.29032258064516125,\n",
       " 0.25806451612903225,\n",
       " 0.3548387096774194,\n",
       " 0.29032258064516125,\n",
       " 0.32258064516129037,\n",
       " 0.29032258064516125,\n",
       " 0.32258064516129037,\n",
       " 0.3548387096774194,\n",
       " 0.32258064516129037,\n",
       " 0.25806451612903225,\n",
       " 0.32258064516129037,\n",
       " 0.22580645161290325]"
      ]
     },
     "execution_count": 364,
     "metadata": {},
     "output_type": "execute_result"
    }
   ],
   "source": [
    "test_error_rate"
   ]
  },
  {
   "cell_type": "markdown",
   "id": "719095b0",
   "metadata": {},
   "source": [
    "# Random Forest Classifier model"
   ]
  },
  {
   "cell_type": "code",
   "execution_count": 384,
   "id": "cd9a2f80",
   "metadata": {},
   "outputs": [],
   "source": [
    "rfc=RandomForestClassifier(n_estimators=100,random_state=42)"
   ]
  },
  {
   "cell_type": "code",
   "execution_count": 385,
   "id": "4c3ec6f6",
   "metadata": {},
   "outputs": [
    {
     "data": {
      "text/plain": [
       "RandomForestClassifier(random_state=42)"
      ]
     },
     "execution_count": 385,
     "metadata": {},
     "output_type": "execute_result"
    }
   ],
   "source": [
    "rfc.fit(X_train,y_train)"
   ]
  },
  {
   "cell_type": "code",
   "execution_count": 386,
   "id": "273996b6",
   "metadata": {},
   "outputs": [],
   "source": [
    "y_pred_rfc=rfc.predict(X_test)"
   ]
  },
  {
   "cell_type": "markdown",
   "id": "fe59970b",
   "metadata": {},
   "source": [
    "## Evaluate the model"
   ]
  },
  {
   "cell_type": "code",
   "execution_count": 387,
   "id": "ac101057",
   "metadata": {},
   "outputs": [
    {
     "data": {
      "text/plain": [
       "0.9032258064516129"
      ]
     },
     "execution_count": 387,
     "metadata": {},
     "output_type": "execute_result"
    }
   ],
   "source": [
    "accuracy_score(y_test,y_pred_rfc)"
   ]
  },
  {
   "cell_type": "code",
   "execution_count": 388,
   "id": "5e4c85d1",
   "metadata": {},
   "outputs": [
    {
     "data": {
      "text/plain": [
       "array([[11,  1],\n",
       "       [ 2, 17]], dtype=int64)"
      ]
     },
     "execution_count": 388,
     "metadata": {},
     "output_type": "execute_result"
    }
   ],
   "source": [
    "confusion_matrix(y_test,y_pred_rfc)"
   ]
  },
  {
   "cell_type": "code",
   "execution_count": 389,
   "id": "6a6be0c2",
   "metadata": {},
   "outputs": [
    {
     "name": "stdout",
     "output_type": "stream",
     "text": [
      "              precision    recall  f1-score   support\n",
      "\n",
      "           0       0.85      0.92      0.88        12\n",
      "           1       0.94      0.89      0.92        19\n",
      "\n",
      "    accuracy                           0.90        31\n",
      "   macro avg       0.90      0.91      0.90        31\n",
      "weighted avg       0.91      0.90      0.90        31\n",
      "\n"
     ]
    }
   ],
   "source": [
    "print(classification_report(y_test,y_pred_rfc))"
   ]
  },
  {
   "cell_type": "code",
   "execution_count": 390,
   "id": "a0bc30cc",
   "metadata": {},
   "outputs": [
    {
     "data": {
      "text/plain": [
       "<sklearn.metrics._plot.roc_curve.RocCurveDisplay at 0x284c5478648>"
      ]
     },
     "execution_count": 390,
     "metadata": {},
     "output_type": "execute_result"
    },
    {
     "data": {
      "image/png": "[encoded data removed]",
      "text/plain": [
       "<Figure size 640x480 with 1 Axes>"
      ]
     },
     "metadata": {},
     "output_type": "display_data"
    }
   ],
   "source": [
    "plot_roc_curve(rfc,X_test,y_test)"
   ]
  },
  {
   "cell_type": "code",
   "execution_count": 391,
   "id": "13f543be",
   "metadata": {},
   "outputs": [
    {
     "data": {
      "text/plain": [
       "<sklearn.metrics._plot.precision_recall_curve.PrecisionRecallDisplay at 0x284c68e8548>"
      ]
     },
     "execution_count": 391,
     "metadata": {},
     "output_type": "execute_result"
    },
    {
     "data": {
      "image/png": "[encoded data removed]",
      "text/plain": [
       "<Figure size 640x480 with 1 Axes>"
      ]
     },
     "metadata": {},
     "output_type": "display_data"
    }
   ],
   "source": [
    "plot_precision_recall_curve(rfc,X_test,y_test)"
   ]
  },
  {
   "cell_type": "code",
   "execution_count": 393,
   "id": "ffe70947",
   "metadata": {},
   "outputs": [],
   "source": [
    "n_estimators=[64,100,128,200]\n",
    "max_features=[2,3,4]\n",
    "bootstrap=[True,False]\n",
    "oob_score=[True,False]"
   ]
  },
  {
   "cell_type": "code",
   "execution_count": 394,
   "id": "cf242cd5",
   "metadata": {},
   "outputs": [],
   "source": [
    "param_grid={'n_estimators':n_estimators,'max_features':max_features,\"bootstrap\":bootstrap,'oob_score':oob_score}"
   ]
  },
  {
   "cell_type": "code",
   "execution_count": 395,
   "id": "dc0f41d0",
   "metadata": {},
   "outputs": [],
   "source": [
    "rfc_2=RandomForestClassifier()"
   ]
  },
  {
   "cell_type": "code",
   "execution_count": 396,
   "id": "f2e97582",
   "metadata": {},
   "outputs": [],
   "source": [
    "grid_rfc=GridSearchCV(rfc_2,param_grid)"
   ]
  },
  {
   "cell_type": "code",
   "execution_count": 397,
   "id": "da08bc2a",
   "metadata": {},
   "outputs": [
    {
     "name": "stderr",
     "output_type": "stream",
     "text": [
      "C:\\Users\\97150\\Anaconda3\\envs\\new_env\\lib\\site-packages\\sklearn\\model_selection\\_validation.py:552: FitFailedWarning: Estimator fit failed. The score on this train-test partition for these parameters will be set to nan. Details: \n",
      "Traceback (most recent call last):\n",
      "  File \"C:\\Users\\97150\\Anaconda3\\envs\\new_env\\lib\\site-packages\\sklearn\\model_selection\\_validation.py\", line 531, in _fit_and_score\n",
      "    estimator.fit(X_train, y_train, **fit_params)\n",
      "  File \"C:\\Users\\97150\\Anaconda3\\envs\\new_env\\lib\\site-packages\\sklearn\\ensemble\\_forest.py\", line 351, in fit\n",
      "    raise ValueError(\"Out of bag estimation only available\"\n",
      "ValueError: Out of bag estimation only available if bootstrap=True\n",
      "\n",
      "  FitFailedWarning)\n",
      "C:\\Users\\97150\\Anaconda3\\envs\\new_env\\lib\\site-packages\\sklearn\\model_selection\\_validation.py:552: FitFailedWarning: Estimator fit failed. The score on this train-test partition for these parameters will be set to nan. Details: \n",
      "Traceback (most recent call last):\n",
      "  File \"C:\\Users\\97150\\Anaconda3\\envs\\new_env\\lib\\site-packages\\sklearn\\model_selection\\_validation.py\", line 531, in _fit_and_score\n",
      "    estimator.fit(X_train, y_train, **fit_params)\n",
      "  File \"C:\\Users\\97150\\Anaconda3\\envs\\new_env\\lib\\site-packages\\sklearn\\ensemble\\_forest.py\", line 351, in fit\n",
      "    raise ValueError(\"Out of bag estimation only available\"\n",
      "ValueError: Out of bag estimation only available if bootstrap=True\n",
      "\n",
      "  FitFailedWarning)\n",
      "C:\\Users\\97150\\Anaconda3\\envs\\new_env\\lib\\site-packages\\sklearn\\model_selection\\_validation.py:552: FitFailedWarning: Estimator fit failed. The score on this train-test partition for these parameters will be set to nan. Details: \n",
      "Traceback (most recent call last):\n",
      "  File \"C:\\Users\\97150\\Anaconda3\\envs\\new_env\\lib\\site-packages\\sklearn\\model_selection\\_validation.py\", line 531, in _fit_and_score\n",
      "    estimator.fit(X_train, y_train, **fit_params)\n",
      "  File \"C:\\Users\\97150\\Anaconda3\\envs\\new_env\\lib\\site-packages\\sklearn\\ensemble\\_forest.py\", line 351, in fit\n",
      "    raise ValueError(\"Out of bag estimation only available\"\n",
      "ValueError: Out of bag estimation only available if bootstrap=True\n",
      "\n",
      "  FitFailedWarning)\n",
      "C:\\Users\\97150\\Anaconda3\\envs\\new_env\\lib\\site-packages\\sklearn\\model_selection\\_validation.py:552: FitFailedWarning: Estimator fit failed. The score on this train-test partition for these parameters will be set to nan. Details: \n",
      "Traceback (most recent call last):\n",
      "  File \"C:\\Users\\97150\\Anaconda3\\envs\\new_env\\lib\\site-packages\\sklearn\\model_selection\\_validation.py\", line 531, in _fit_and_score\n",
      "    estimator.fit(X_train, y_train, **fit_params)\n",
      "  File \"C:\\Users\\97150\\Anaconda3\\envs\\new_env\\lib\\site-packages\\sklearn\\ensemble\\_forest.py\", line 351, in fit\n",
      "    raise ValueError(\"Out of bag estimation only available\"\n",
      "ValueError: Out of bag estimation only available if bootstrap=True\n",
      "\n",
      "  FitFailedWarning)\n",
      "C:\\Users\\97150\\Anaconda3\\envs\\new_env\\lib\\site-packages\\sklearn\\model_selection\\_validation.py:552: FitFailedWarning: Estimator fit failed. The score on this train-test partition for these parameters will be set to nan. Details: \n",
      "Traceback (most recent call last):\n",
      "  File \"C:\\Users\\97150\\Anaconda3\\envs\\new_env\\lib\\site-packages\\sklearn\\model_selection\\_validation.py\", line 531, in _fit_and_score\n",
      "    estimator.fit(X_train, y_train, **fit_params)\n",
      "  File \"C:\\Users\\97150\\Anaconda3\\envs\\new_env\\lib\\site-packages\\sklearn\\ensemble\\_forest.py\", line 351, in fit\n",
      "    raise ValueError(\"Out of bag estimation only available\"\n",
      "ValueError: Out of bag estimation only available if bootstrap=True\n",
      "\n",
      "  FitFailedWarning)\n",
      "C:\\Users\\97150\\Anaconda3\\envs\\new_env\\lib\\site-packages\\sklearn\\model_selection\\_validation.py:552: FitFailedWarning: Estimator fit failed. The score on this train-test partition for these parameters will be set to nan. Details: \n",
      "Traceback (most recent call last):\n",
      "  File \"C:\\Users\\97150\\Anaconda3\\envs\\new_env\\lib\\site-packages\\sklearn\\model_selection\\_validation.py\", line 531, in _fit_and_score\n",
      "    estimator.fit(X_train, y_train, **fit_params)\n",
      "  File \"C:\\Users\\97150\\Anaconda3\\envs\\new_env\\lib\\site-packages\\sklearn\\ensemble\\_forest.py\", line 351, in fit\n",
      "    raise ValueError(\"Out of bag estimation only available\"\n",
      "ValueError: Out of bag estimation only available if bootstrap=True\n",
      "\n",
      "  FitFailedWarning)\n",
      "C:\\Users\\97150\\Anaconda3\\envs\\new_env\\lib\\site-packages\\sklearn\\model_selection\\_validation.py:552: FitFailedWarning: Estimator fit failed. The score on this train-test partition for these parameters will be set to nan. Details: \n",
      "Traceback (most recent call last):\n",
      "  File \"C:\\Users\\97150\\Anaconda3\\envs\\new_env\\lib\\site-packages\\sklearn\\model_selection\\_validation.py\", line 531, in _fit_and_score\n",
      "    estimator.fit(X_train, y_train, **fit_params)\n",
      "  File \"C:\\Users\\97150\\Anaconda3\\envs\\new_env\\lib\\site-packages\\sklearn\\ensemble\\_forest.py\", line 351, in fit\n",
      "    raise ValueError(\"Out of bag estimation only available\"\n",
      "ValueError: Out of bag estimation only available if bootstrap=True\n",
      "\n",
      "  FitFailedWarning)\n",
      "C:\\Users\\97150\\Anaconda3\\envs\\new_env\\lib\\site-packages\\sklearn\\model_selection\\_validation.py:552: FitFailedWarning: Estimator fit failed. The score on this train-test partition for these parameters will be set to nan. Details: \n",
      "Traceback (most recent call last):\n",
      "  File \"C:\\Users\\97150\\Anaconda3\\envs\\new_env\\lib\\site-packages\\sklearn\\model_selection\\_validation.py\", line 531, in _fit_and_score\n",
      "    estimator.fit(X_train, y_train, **fit_params)\n",
      "  File \"C:\\Users\\97150\\Anaconda3\\envs\\new_env\\lib\\site-packages\\sklearn\\ensemble\\_forest.py\", line 351, in fit\n",
      "    raise ValueError(\"Out of bag estimation only available\"\n",
      "ValueError: Out of bag estimation only available if bootstrap=True\n",
      "\n",
      "  FitFailedWarning)\n",
      "C:\\Users\\97150\\Anaconda3\\envs\\new_env\\lib\\site-packages\\sklearn\\model_selection\\_validation.py:552: FitFailedWarning: Estimator fit failed. The score on this train-test partition for these parameters will be set to nan. Details: \n",
      "Traceback (most recent call last):\n",
      "  File \"C:\\Users\\97150\\Anaconda3\\envs\\new_env\\lib\\site-packages\\sklearn\\model_selection\\_validation.py\", line 531, in _fit_and_score\n",
      "    estimator.fit(X_train, y_train, **fit_params)\n",
      "  File \"C:\\Users\\97150\\Anaconda3\\envs\\new_env\\lib\\site-packages\\sklearn\\ensemble\\_forest.py\", line 351, in fit\n",
      "    raise ValueError(\"Out of bag estimation only available\"\n",
      "ValueError: Out of bag estimation only available if bootstrap=True\n",
      "\n",
      "  FitFailedWarning)\n",
      "C:\\Users\\97150\\Anaconda3\\envs\\new_env\\lib\\site-packages\\sklearn\\model_selection\\_validation.py:552: FitFailedWarning: Estimator fit failed. The score on this train-test partition for these parameters will be set to nan. Details: \n",
      "Traceback (most recent call last):\n",
      "  File \"C:\\Users\\97150\\Anaconda3\\envs\\new_env\\lib\\site-packages\\sklearn\\model_selection\\_validation.py\", line 531, in _fit_and_score\n",
      "    estimator.fit(X_train, y_train, **fit_params)\n",
      "  File \"C:\\Users\\97150\\Anaconda3\\envs\\new_env\\lib\\site-packages\\sklearn\\ensemble\\_forest.py\", line 351, in fit\n",
      "    raise ValueError(\"Out of bag estimation only available\"\n",
      "ValueError: Out of bag estimation only available if bootstrap=True\n",
      "\n",
      "  FitFailedWarning)\n",
      "C:\\Users\\97150\\Anaconda3\\envs\\new_env\\lib\\site-packages\\sklearn\\model_selection\\_validation.py:552: FitFailedWarning: Estimator fit failed. The score on this train-test partition for these parameters will be set to nan. Details: \n",
      "Traceback (most recent call last):\n",
      "  File \"C:\\Users\\97150\\Anaconda3\\envs\\new_env\\lib\\site-packages\\sklearn\\model_selection\\_validation.py\", line 531, in _fit_and_score\n",
      "    estimator.fit(X_train, y_train, **fit_params)\n",
      "  File \"C:\\Users\\97150\\Anaconda3\\envs\\new_env\\lib\\site-packages\\sklearn\\ensemble\\_forest.py\", line 351, in fit\n",
      "    raise ValueError(\"Out of bag estimation only available\"\n",
      "ValueError: Out of bag estimation only available if bootstrap=True\n",
      "\n",
      "  FitFailedWarning)\n",
      "C:\\Users\\97150\\Anaconda3\\envs\\new_env\\lib\\site-packages\\sklearn\\model_selection\\_validation.py:552: FitFailedWarning: Estimator fit failed. The score on this train-test partition for these parameters will be set to nan. Details: \n",
      "Traceback (most recent call last):\n",
      "  File \"C:\\Users\\97150\\Anaconda3\\envs\\new_env\\lib\\site-packages\\sklearn\\model_selection\\_validation.py\", line 531, in _fit_and_score\n",
      "    estimator.fit(X_train, y_train, **fit_params)\n",
      "  File \"C:\\Users\\97150\\Anaconda3\\envs\\new_env\\lib\\site-packages\\sklearn\\ensemble\\_forest.py\", line 351, in fit\n",
      "    raise ValueError(\"Out of bag estimation only available\"\n",
      "ValueError: Out of bag estimation only available if bootstrap=True\n",
      "\n",
      "  FitFailedWarning)\n",
      "C:\\Users\\97150\\Anaconda3\\envs\\new_env\\lib\\site-packages\\sklearn\\model_selection\\_validation.py:552: FitFailedWarning: Estimator fit failed. The score on this train-test partition for these parameters will be set to nan. Details: \n",
      "Traceback (most recent call last):\n",
      "  File \"C:\\Users\\97150\\Anaconda3\\envs\\new_env\\lib\\site-packages\\sklearn\\model_selection\\_validation.py\", line 531, in _fit_and_score\n",
      "    estimator.fit(X_train, y_train, **fit_params)\n",
      "  File \"C:\\Users\\97150\\Anaconda3\\envs\\new_env\\lib\\site-packages\\sklearn\\ensemble\\_forest.py\", line 351, in fit\n",
      "    raise ValueError(\"Out of bag estimation only available\"\n",
      "ValueError: Out of bag estimation only available if bootstrap=True\n",
      "\n",
      "  FitFailedWarning)\n",
      "C:\\Users\\97150\\Anaconda3\\envs\\new_env\\lib\\site-packages\\sklearn\\model_selection\\_validation.py:552: FitFailedWarning: Estimator fit failed. The score on this train-test partition for these parameters will be set to nan. Details: \n",
      "Traceback (most recent call last):\n",
      "  File \"C:\\Users\\97150\\Anaconda3\\envs\\new_env\\lib\\site-packages\\sklearn\\model_selection\\_validation.py\", line 531, in _fit_and_score\n",
      "    estimator.fit(X_train, y_train, **fit_params)\n",
      "  File \"C:\\Users\\97150\\Anaconda3\\envs\\new_env\\lib\\site-packages\\sklearn\\ensemble\\_forest.py\", line 351, in fit\n",
      "    raise ValueError(\"Out of bag estimation only available\"\n",
      "ValueError: Out of bag estimation only available if bootstrap=True\n",
      "\n",
      "  FitFailedWarning)\n",
      "C:\\Users\\97150\\Anaconda3\\envs\\new_env\\lib\\site-packages\\sklearn\\model_selection\\_validation.py:552: FitFailedWarning: Estimator fit failed. The score on this train-test partition for these parameters will be set to nan. Details: \n",
      "Traceback (most recent call last):\n",
      "  File \"C:\\Users\\97150\\Anaconda3\\envs\\new_env\\lib\\site-packages\\sklearn\\model_selection\\_validation.py\", line 531, in _fit_and_score\n",
      "    estimator.fit(X_train, y_train, **fit_params)\n",
      "  File \"C:\\Users\\97150\\Anaconda3\\envs\\new_env\\lib\\site-packages\\sklearn\\ensemble\\_forest.py\", line 351, in fit\n",
      "    raise ValueError(\"Out of bag estimation only available\"\n",
      "ValueError: Out of bag estimation only available if bootstrap=True\n",
      "\n",
      "  FitFailedWarning)\n",
      "C:\\Users\\97150\\Anaconda3\\envs\\new_env\\lib\\site-packages\\sklearn\\model_selection\\_validation.py:552: FitFailedWarning: Estimator fit failed. The score on this train-test partition for these parameters will be set to nan. Details: \n",
      "Traceback (most recent call last):\n",
      "  File \"C:\\Users\\97150\\Anaconda3\\envs\\new_env\\lib\\site-packages\\sklearn\\model_selection\\_validation.py\", line 531, in _fit_and_score\n",
      "    estimator.fit(X_train, y_train, **fit_params)\n",
      "  File \"C:\\Users\\97150\\Anaconda3\\envs\\new_env\\lib\\site-packages\\sklearn\\ensemble\\_forest.py\", line 351, in fit\n",
      "    raise ValueError(\"Out of bag estimation only available\"\n",
      "ValueError: Out of bag estimation only available if bootstrap=True\n",
      "\n",
      "  FitFailedWarning)\n",
      "C:\\Users\\97150\\Anaconda3\\envs\\new_env\\lib\\site-packages\\sklearn\\model_selection\\_validation.py:552: FitFailedWarning: Estimator fit failed. The score on this train-test partition for these parameters will be set to nan. Details: \n",
      "Traceback (most recent call last):\n",
      "  File \"C:\\Users\\97150\\Anaconda3\\envs\\new_env\\lib\\site-packages\\sklearn\\model_selection\\_validation.py\", line 531, in _fit_and_score\n",
      "    estimator.fit(X_train, y_train, **fit_params)\n",
      "  File \"C:\\Users\\97150\\Anaconda3\\envs\\new_env\\lib\\site-packages\\sklearn\\ensemble\\_forest.py\", line 351, in fit\n",
      "    raise ValueError(\"Out of bag estimation only available\"\n",
      "ValueError: Out of bag estimation only available if bootstrap=True\n",
      "\n",
      "  FitFailedWarning)\n",
      "C:\\Users\\97150\\Anaconda3\\envs\\new_env\\lib\\site-packages\\sklearn\\model_selection\\_validation.py:552: FitFailedWarning: Estimator fit failed. The score on this train-test partition for these parameters will be set to nan. Details: \n",
      "Traceback (most recent call last):\n",
      "  File \"C:\\Users\\97150\\Anaconda3\\envs\\new_env\\lib\\site-packages\\sklearn\\model_selection\\_validation.py\", line 531, in _fit_and_score\n",
      "    estimator.fit(X_train, y_train, **fit_params)\n",
      "  File \"C:\\Users\\97150\\Anaconda3\\envs\\new_env\\lib\\site-packages\\sklearn\\ensemble\\_forest.py\", line 351, in fit\n",
      "    raise ValueError(\"Out of bag estimation only available\"\n",
      "ValueError: Out of bag estimation only available if bootstrap=True\n",
      "\n",
      "  FitFailedWarning)\n",
      "C:\\Users\\97150\\Anaconda3\\envs\\new_env\\lib\\site-packages\\sklearn\\model_selection\\_validation.py:552: FitFailedWarning: Estimator fit failed. The score on this train-test partition for these parameters will be set to nan. Details: \n",
      "Traceback (most recent call last):\n",
      "  File \"C:\\Users\\97150\\Anaconda3\\envs\\new_env\\lib\\site-packages\\sklearn\\model_selection\\_validation.py\", line 531, in _fit_and_score\n",
      "    estimator.fit(X_train, y_train, **fit_params)\n",
      "  File \"C:\\Users\\97150\\Anaconda3\\envs\\new_env\\lib\\site-packages\\sklearn\\ensemble\\_forest.py\", line 351, in fit\n",
      "    raise ValueError(\"Out of bag estimation only available\"\n",
      "ValueError: Out of bag estimation only available if bootstrap=True\n",
      "\n",
      "  FitFailedWarning)\n",
      "C:\\Users\\97150\\Anaconda3\\envs\\new_env\\lib\\site-packages\\sklearn\\model_selection\\_validation.py:552: FitFailedWarning: Estimator fit failed. The score on this train-test partition for these parameters will be set to nan. Details: \n",
      "Traceback (most recent call last):\n",
      "  File \"C:\\Users\\97150\\Anaconda3\\envs\\new_env\\lib\\site-packages\\sklearn\\model_selection\\_validation.py\", line 531, in _fit_and_score\n",
      "    estimator.fit(X_train, y_train, **fit_params)\n",
      "  File \"C:\\Users\\97150\\Anaconda3\\envs\\new_env\\lib\\site-packages\\sklearn\\ensemble\\_forest.py\", line 351, in fit\n",
      "    raise ValueError(\"Out of bag estimation only available\"\n",
      "ValueError: Out of bag estimation only available if bootstrap=True\n",
      "\n",
      "  FitFailedWarning)\n",
      "C:\\Users\\97150\\Anaconda3\\envs\\new_env\\lib\\site-packages\\sklearn\\model_selection\\_validation.py:552: FitFailedWarning: Estimator fit failed. The score on this train-test partition for these parameters will be set to nan. Details: \n",
      "Traceback (most recent call last):\n",
      "  File \"C:\\Users\\97150\\Anaconda3\\envs\\new_env\\lib\\site-packages\\sklearn\\model_selection\\_validation.py\", line 531, in _fit_and_score\n",
      "    estimator.fit(X_train, y_train, **fit_params)\n",
      "  File \"C:\\Users\\97150\\Anaconda3\\envs\\new_env\\lib\\site-packages\\sklearn\\ensemble\\_forest.py\", line 351, in fit\n",
      "    raise ValueError(\"Out of bag estimation only available\"\n",
      "ValueError: Out of bag estimation only available if bootstrap=True\n",
      "\n",
      "  FitFailedWarning)\n",
      "C:\\Users\\97150\\Anaconda3\\envs\\new_env\\lib\\site-packages\\sklearn\\model_selection\\_validation.py:552: FitFailedWarning: Estimator fit failed. The score on this train-test partition for these parameters will be set to nan. Details: \n",
      "Traceback (most recent call last):\n",
      "  File \"C:\\Users\\97150\\Anaconda3\\envs\\new_env\\lib\\site-packages\\sklearn\\model_selection\\_validation.py\", line 531, in _fit_and_score\n",
      "    estimator.fit(X_train, y_train, **fit_params)\n",
      "  File \"C:\\Users\\97150\\Anaconda3\\envs\\new_env\\lib\\site-packages\\sklearn\\ensemble\\_forest.py\", line 351, in fit\n",
      "    raise ValueError(\"Out of bag estimation only available\"\n",
      "ValueError: Out of bag estimation only available if bootstrap=True\n",
      "\n",
      "  FitFailedWarning)\n",
      "C:\\Users\\97150\\Anaconda3\\envs\\new_env\\lib\\site-packages\\sklearn\\model_selection\\_validation.py:552: FitFailedWarning: Estimator fit failed. The score on this train-test partition for these parameters will be set to nan. Details: \n",
      "Traceback (most recent call last):\n",
      "  File \"C:\\Users\\97150\\Anaconda3\\envs\\new_env\\lib\\site-packages\\sklearn\\model_selection\\_validation.py\", line 531, in _fit_and_score\n",
      "    estimator.fit(X_train, y_train, **fit_params)\n",
      "  File \"C:\\Users\\97150\\Anaconda3\\envs\\new_env\\lib\\site-packages\\sklearn\\ensemble\\_forest.py\", line 351, in fit\n",
      "    raise ValueError(\"Out of bag estimation only available\"\n",
      "ValueError: Out of bag estimation only available if bootstrap=True\n",
      "\n",
      "  FitFailedWarning)\n",
      "C:\\Users\\97150\\Anaconda3\\envs\\new_env\\lib\\site-packages\\sklearn\\model_selection\\_validation.py:552: FitFailedWarning: Estimator fit failed. The score on this train-test partition for these parameters will be set to nan. Details: \n",
      "Traceback (most recent call last):\n",
      "  File \"C:\\Users\\97150\\Anaconda3\\envs\\new_env\\lib\\site-packages\\sklearn\\model_selection\\_validation.py\", line 531, in _fit_and_score\n",
      "    estimator.fit(X_train, y_train, **fit_params)\n",
      "  File \"C:\\Users\\97150\\Anaconda3\\envs\\new_env\\lib\\site-packages\\sklearn\\ensemble\\_forest.py\", line 351, in fit\n",
      "    raise ValueError(\"Out of bag estimation only available\"\n",
      "ValueError: Out of bag estimation only available if bootstrap=True\n",
      "\n",
      "  FitFailedWarning)\n",
      "C:\\Users\\97150\\Anaconda3\\envs\\new_env\\lib\\site-packages\\sklearn\\model_selection\\_validation.py:552: FitFailedWarning: Estimator fit failed. The score on this train-test partition for these parameters will be set to nan. Details: \n",
      "Traceback (most recent call last):\n",
      "  File \"C:\\Users\\97150\\Anaconda3\\envs\\new_env\\lib\\site-packages\\sklearn\\model_selection\\_validation.py\", line 531, in _fit_and_score\n",
      "    estimator.fit(X_train, y_train, **fit_params)\n",
      "  File \"C:\\Users\\97150\\Anaconda3\\envs\\new_env\\lib\\site-packages\\sklearn\\ensemble\\_forest.py\", line 351, in fit\n",
      "    raise ValueError(\"Out of bag estimation only available\"\n",
      "ValueError: Out of bag estimation only available if bootstrap=True\n",
      "\n",
      "  FitFailedWarning)\n",
      "C:\\Users\\97150\\Anaconda3\\envs\\new_env\\lib\\site-packages\\sklearn\\model_selection\\_validation.py:552: FitFailedWarning: Estimator fit failed. The score on this train-test partition for these parameters will be set to nan. Details: \n",
      "Traceback (most recent call last):\n",
      "  File \"C:\\Users\\97150\\Anaconda3\\envs\\new_env\\lib\\site-packages\\sklearn\\model_selection\\_validation.py\", line 531, in _fit_and_score\n",
      "    estimator.fit(X_train, y_train, **fit_params)\n",
      "  File \"C:\\Users\\97150\\Anaconda3\\envs\\new_env\\lib\\site-packages\\sklearn\\ensemble\\_forest.py\", line 351, in fit\n",
      "    raise ValueError(\"Out of bag estimation only available\"\n",
      "ValueError: Out of bag estimation only available if bootstrap=True\n",
      "\n",
      "  FitFailedWarning)\n",
      "C:\\Users\\97150\\Anaconda3\\envs\\new_env\\lib\\site-packages\\sklearn\\model_selection\\_validation.py:552: FitFailedWarning: Estimator fit failed. The score on this train-test partition for these parameters will be set to nan. Details: \n",
      "Traceback (most recent call last):\n",
      "  File \"C:\\Users\\97150\\Anaconda3\\envs\\new_env\\lib\\site-packages\\sklearn\\model_selection\\_validation.py\", line 531, in _fit_and_score\n",
      "    estimator.fit(X_train, y_train, **fit_params)\n",
      "  File \"C:\\Users\\97150\\Anaconda3\\envs\\new_env\\lib\\site-packages\\sklearn\\ensemble\\_forest.py\", line 351, in fit\n",
      "    raise ValueError(\"Out of bag estimation only available\"\n",
      "ValueError: Out of bag estimation only available if bootstrap=True\n",
      "\n",
      "  FitFailedWarning)\n",
      "C:\\Users\\97150\\Anaconda3\\envs\\new_env\\lib\\site-packages\\sklearn\\model_selection\\_validation.py:552: FitFailedWarning: Estimator fit failed. The score on this train-test partition for these parameters will be set to nan. Details: \n",
      "Traceback (most recent call last):\n",
      "  File \"C:\\Users\\97150\\Anaconda3\\envs\\new_env\\lib\\site-packages\\sklearn\\model_selection\\_validation.py\", line 531, in _fit_and_score\n",
      "    estimator.fit(X_train, y_train, **fit_params)\n",
      "  File \"C:\\Users\\97150\\Anaconda3\\envs\\new_env\\lib\\site-packages\\sklearn\\ensemble\\_forest.py\", line 351, in fit\n",
      "    raise ValueError(\"Out of bag estimation only available\"\n",
      "ValueError: Out of bag estimation only available if bootstrap=True\n",
      "\n",
      "  FitFailedWarning)\n",
      "C:\\Users\\97150\\Anaconda3\\envs\\new_env\\lib\\site-packages\\sklearn\\model_selection\\_validation.py:552: FitFailedWarning: Estimator fit failed. The score on this train-test partition for these parameters will be set to nan. Details: \n",
      "Traceback (most recent call last):\n",
      "  File \"C:\\Users\\97150\\Anaconda3\\envs\\new_env\\lib\\site-packages\\sklearn\\model_selection\\_validation.py\", line 531, in _fit_and_score\n",
      "    estimator.fit(X_train, y_train, **fit_params)\n",
      "  File \"C:\\Users\\97150\\Anaconda3\\envs\\new_env\\lib\\site-packages\\sklearn\\ensemble\\_forest.py\", line 351, in fit\n",
      "    raise ValueError(\"Out of bag estimation only available\"\n",
      "ValueError: Out of bag estimation only available if bootstrap=True\n",
      "\n",
      "  FitFailedWarning)\n",
      "C:\\Users\\97150\\Anaconda3\\envs\\new_env\\lib\\site-packages\\sklearn\\model_selection\\_validation.py:552: FitFailedWarning: Estimator fit failed. The score on this train-test partition for these parameters will be set to nan. Details: \n",
      "Traceback (most recent call last):\n",
      "  File \"C:\\Users\\97150\\Anaconda3\\envs\\new_env\\lib\\site-packages\\sklearn\\model_selection\\_validation.py\", line 531, in _fit_and_score\n",
      "    estimator.fit(X_train, y_train, **fit_params)\n",
      "  File \"C:\\Users\\97150\\Anaconda3\\envs\\new_env\\lib\\site-packages\\sklearn\\ensemble\\_forest.py\", line 351, in fit\n",
      "    raise ValueError(\"Out of bag estimation only available\"\n",
      "ValueError: Out of bag estimation only available if bootstrap=True\n",
      "\n",
      "  FitFailedWarning)\n",
      "C:\\Users\\97150\\Anaconda3\\envs\\new_env\\lib\\site-packages\\sklearn\\model_selection\\_validation.py:552: FitFailedWarning: Estimator fit failed. The score on this train-test partition for these parameters will be set to nan. Details: \n",
      "Traceback (most recent call last):\n",
      "  File \"C:\\Users\\97150\\Anaconda3\\envs\\new_env\\lib\\site-packages\\sklearn\\model_selection\\_validation.py\", line 531, in _fit_and_score\n",
      "    estimator.fit(X_train, y_train, **fit_params)\n",
      "  File \"C:\\Users\\97150\\Anaconda3\\envs\\new_env\\lib\\site-packages\\sklearn\\ensemble\\_forest.py\", line 351, in fit\n",
      "    raise ValueError(\"Out of bag estimation only available\"\n",
      "ValueError: Out of bag estimation only available if bootstrap=True\n",
      "\n",
      "  FitFailedWarning)\n",
      "C:\\Users\\97150\\Anaconda3\\envs\\new_env\\lib\\site-packages\\sklearn\\model_selection\\_validation.py:552: FitFailedWarning: Estimator fit failed. The score on this train-test partition for these parameters will be set to nan. Details: \n",
      "Traceback (most recent call last):\n",
      "  File \"C:\\Users\\97150\\Anaconda3\\envs\\new_env\\lib\\site-packages\\sklearn\\model_selection\\_validation.py\", line 531, in _fit_and_score\n",
      "    estimator.fit(X_train, y_train, **fit_params)\n",
      "  File \"C:\\Users\\97150\\Anaconda3\\envs\\new_env\\lib\\site-packages\\sklearn\\ensemble\\_forest.py\", line 351, in fit\n",
      "    raise ValueError(\"Out of bag estimation only available\"\n",
      "ValueError: Out of bag estimation only available if bootstrap=True\n",
      "\n",
      "  FitFailedWarning)\n",
      "C:\\Users\\97150\\Anaconda3\\envs\\new_env\\lib\\site-packages\\sklearn\\model_selection\\_validation.py:552: FitFailedWarning: Estimator fit failed. The score on this train-test partition for these parameters will be set to nan. Details: \n",
      "Traceback (most recent call last):\n",
      "  File \"C:\\Users\\97150\\Anaconda3\\envs\\new_env\\lib\\site-packages\\sklearn\\model_selection\\_validation.py\", line 531, in _fit_and_score\n",
      "    estimator.fit(X_train, y_train, **fit_params)\n",
      "  File \"C:\\Users\\97150\\Anaconda3\\envs\\new_env\\lib\\site-packages\\sklearn\\ensemble\\_forest.py\", line 351, in fit\n",
      "    raise ValueError(\"Out of bag estimation only available\"\n",
      "ValueError: Out of bag estimation only available if bootstrap=True\n",
      "\n",
      "  FitFailedWarning)\n",
      "C:\\Users\\97150\\Anaconda3\\envs\\new_env\\lib\\site-packages\\sklearn\\model_selection\\_validation.py:552: FitFailedWarning: Estimator fit failed. The score on this train-test partition for these parameters will be set to nan. Details: \n",
      "Traceback (most recent call last):\n",
      "  File \"C:\\Users\\97150\\Anaconda3\\envs\\new_env\\lib\\site-packages\\sklearn\\model_selection\\_validation.py\", line 531, in _fit_and_score\n",
      "    estimator.fit(X_train, y_train, **fit_params)\n",
      "  File \"C:\\Users\\97150\\Anaconda3\\envs\\new_env\\lib\\site-packages\\sklearn\\ensemble\\_forest.py\", line 351, in fit\n",
      "    raise ValueError(\"Out of bag estimation only available\"\n",
      "ValueError: Out of bag estimation only available if bootstrap=True\n",
      "\n",
      "  FitFailedWarning)\n",
      "C:\\Users\\97150\\Anaconda3\\envs\\new_env\\lib\\site-packages\\sklearn\\model_selection\\_validation.py:552: FitFailedWarning: Estimator fit failed. The score on this train-test partition for these parameters will be set to nan. Details: \n",
      "Traceback (most recent call last):\n",
      "  File \"C:\\Users\\97150\\Anaconda3\\envs\\new_env\\lib\\site-packages\\sklearn\\model_selection\\_validation.py\", line 531, in _fit_and_score\n",
      "    estimator.fit(X_train, y_train, **fit_params)\n",
      "  File \"C:\\Users\\97150\\Anaconda3\\envs\\new_env\\lib\\site-packages\\sklearn\\ensemble\\_forest.py\", line 351, in fit\n",
      "    raise ValueError(\"Out of bag estimation only available\"\n",
      "ValueError: Out of bag estimation only available if bootstrap=True\n",
      "\n",
      "  FitFailedWarning)\n",
      "C:\\Users\\97150\\Anaconda3\\envs\\new_env\\lib\\site-packages\\sklearn\\model_selection\\_validation.py:552: FitFailedWarning: Estimator fit failed. The score on this train-test partition for these parameters will be set to nan. Details: \n",
      "Traceback (most recent call last):\n",
      "  File \"C:\\Users\\97150\\Anaconda3\\envs\\new_env\\lib\\site-packages\\sklearn\\model_selection\\_validation.py\", line 531, in _fit_and_score\n",
      "    estimator.fit(X_train, y_train, **fit_params)\n",
      "  File \"C:\\Users\\97150\\Anaconda3\\envs\\new_env\\lib\\site-packages\\sklearn\\ensemble\\_forest.py\", line 351, in fit\n",
      "    raise ValueError(\"Out of bag estimation only available\"\n",
      "ValueError: Out of bag estimation only available if bootstrap=True\n",
      "\n",
      "  FitFailedWarning)\n",
      "C:\\Users\\97150\\Anaconda3\\envs\\new_env\\lib\\site-packages\\sklearn\\model_selection\\_validation.py:552: FitFailedWarning: Estimator fit failed. The score on this train-test partition for these parameters will be set to nan. Details: \n",
      "Traceback (most recent call last):\n",
      "  File \"C:\\Users\\97150\\Anaconda3\\envs\\new_env\\lib\\site-packages\\sklearn\\model_selection\\_validation.py\", line 531, in _fit_and_score\n",
      "    estimator.fit(X_train, y_train, **fit_params)\n",
      "  File \"C:\\Users\\97150\\Anaconda3\\envs\\new_env\\lib\\site-packages\\sklearn\\ensemble\\_forest.py\", line 351, in fit\n",
      "    raise ValueError(\"Out of bag estimation only available\"\n",
      "ValueError: Out of bag estimation only available if bootstrap=True\n",
      "\n",
      "  FitFailedWarning)\n",
      "C:\\Users\\97150\\Anaconda3\\envs\\new_env\\lib\\site-packages\\sklearn\\model_selection\\_validation.py:552: FitFailedWarning: Estimator fit failed. The score on this train-test partition for these parameters will be set to nan. Details: \n",
      "Traceback (most recent call last):\n",
      "  File \"C:\\Users\\97150\\Anaconda3\\envs\\new_env\\lib\\site-packages\\sklearn\\model_selection\\_validation.py\", line 531, in _fit_and_score\n",
      "    estimator.fit(X_train, y_train, **fit_params)\n",
      "  File \"C:\\Users\\97150\\Anaconda3\\envs\\new_env\\lib\\site-packages\\sklearn\\ensemble\\_forest.py\", line 351, in fit\n",
      "    raise ValueError(\"Out of bag estimation only available\"\n",
      "ValueError: Out of bag estimation only available if bootstrap=True\n",
      "\n",
      "  FitFailedWarning)\n",
      "C:\\Users\\97150\\Anaconda3\\envs\\new_env\\lib\\site-packages\\sklearn\\model_selection\\_validation.py:552: FitFailedWarning: Estimator fit failed. The score on this train-test partition for these parameters will be set to nan. Details: \n",
      "Traceback (most recent call last):\n",
      "  File \"C:\\Users\\97150\\Anaconda3\\envs\\new_env\\lib\\site-packages\\sklearn\\model_selection\\_validation.py\", line 531, in _fit_and_score\n",
      "    estimator.fit(X_train, y_train, **fit_params)\n",
      "  File \"C:\\Users\\97150\\Anaconda3\\envs\\new_env\\lib\\site-packages\\sklearn\\ensemble\\_forest.py\", line 351, in fit\n",
      "    raise ValueError(\"Out of bag estimation only available\"\n",
      "ValueError: Out of bag estimation only available if bootstrap=True\n",
      "\n",
      "  FitFailedWarning)\n",
      "C:\\Users\\97150\\Anaconda3\\envs\\new_env\\lib\\site-packages\\sklearn\\model_selection\\_validation.py:552: FitFailedWarning: Estimator fit failed. The score on this train-test partition for these parameters will be set to nan. Details: \n",
      "Traceback (most recent call last):\n",
      "  File \"C:\\Users\\97150\\Anaconda3\\envs\\new_env\\lib\\site-packages\\sklearn\\model_selection\\_validation.py\", line 531, in _fit_and_score\n",
      "    estimator.fit(X_train, y_train, **fit_params)\n",
      "  File \"C:\\Users\\97150\\Anaconda3\\envs\\new_env\\lib\\site-packages\\sklearn\\ensemble\\_forest.py\", line 351, in fit\n",
      "    raise ValueError(\"Out of bag estimation only available\"\n",
      "ValueError: Out of bag estimation only available if bootstrap=True\n",
      "\n",
      "  FitFailedWarning)\n",
      "C:\\Users\\97150\\Anaconda3\\envs\\new_env\\lib\\site-packages\\sklearn\\model_selection\\_validation.py:552: FitFailedWarning: Estimator fit failed. The score on this train-test partition for these parameters will be set to nan. Details: \n",
      "Traceback (most recent call last):\n",
      "  File \"C:\\Users\\97150\\Anaconda3\\envs\\new_env\\lib\\site-packages\\sklearn\\model_selection\\_validation.py\", line 531, in _fit_and_score\n",
      "    estimator.fit(X_train, y_train, **fit_params)\n",
      "  File \"C:\\Users\\97150\\Anaconda3\\envs\\new_env\\lib\\site-packages\\sklearn\\ensemble\\_forest.py\", line 351, in fit\n",
      "    raise ValueError(\"Out of bag estimation only available\"\n",
      "ValueError: Out of bag estimation only available if bootstrap=True\n",
      "\n",
      "  FitFailedWarning)\n",
      "C:\\Users\\97150\\Anaconda3\\envs\\new_env\\lib\\site-packages\\sklearn\\model_selection\\_validation.py:552: FitFailedWarning: Estimator fit failed. The score on this train-test partition for these parameters will be set to nan. Details: \n",
      "Traceback (most recent call last):\n",
      "  File \"C:\\Users\\97150\\Anaconda3\\envs\\new_env\\lib\\site-packages\\sklearn\\model_selection\\_validation.py\", line 531, in _fit_and_score\n",
      "    estimator.fit(X_train, y_train, **fit_params)\n",
      "  File \"C:\\Users\\97150\\Anaconda3\\envs\\new_env\\lib\\site-packages\\sklearn\\ensemble\\_forest.py\", line 351, in fit\n",
      "    raise ValueError(\"Out of bag estimation only available\"\n",
      "ValueError: Out of bag estimation only available if bootstrap=True\n",
      "\n",
      "  FitFailedWarning)\n",
      "C:\\Users\\97150\\Anaconda3\\envs\\new_env\\lib\\site-packages\\sklearn\\model_selection\\_validation.py:552: FitFailedWarning: Estimator fit failed. The score on this train-test partition for these parameters will be set to nan. Details: \n",
      "Traceback (most recent call last):\n",
      "  File \"C:\\Users\\97150\\Anaconda3\\envs\\new_env\\lib\\site-packages\\sklearn\\model_selection\\_validation.py\", line 531, in _fit_and_score\n",
      "    estimator.fit(X_train, y_train, **fit_params)\n",
      "  File \"C:\\Users\\97150\\Anaconda3\\envs\\new_env\\lib\\site-packages\\sklearn\\ensemble\\_forest.py\", line 351, in fit\n",
      "    raise ValueError(\"Out of bag estimation only available\"\n",
      "ValueError: Out of bag estimation only available if bootstrap=True\n",
      "\n",
      "  FitFailedWarning)\n",
      "C:\\Users\\97150\\Anaconda3\\envs\\new_env\\lib\\site-packages\\sklearn\\model_selection\\_validation.py:552: FitFailedWarning: Estimator fit failed. The score on this train-test partition for these parameters will be set to nan. Details: \n",
      "Traceback (most recent call last):\n",
      "  File \"C:\\Users\\97150\\Anaconda3\\envs\\new_env\\lib\\site-packages\\sklearn\\model_selection\\_validation.py\", line 531, in _fit_and_score\n",
      "    estimator.fit(X_train, y_train, **fit_params)\n",
      "  File \"C:\\Users\\97150\\Anaconda3\\envs\\new_env\\lib\\site-packages\\sklearn\\ensemble\\_forest.py\", line 351, in fit\n",
      "    raise ValueError(\"Out of bag estimation only available\"\n",
      "ValueError: Out of bag estimation only available if bootstrap=True\n",
      "\n",
      "  FitFailedWarning)\n",
      "C:\\Users\\97150\\Anaconda3\\envs\\new_env\\lib\\site-packages\\sklearn\\model_selection\\_validation.py:552: FitFailedWarning: Estimator fit failed. The score on this train-test partition for these parameters will be set to nan. Details: \n",
      "Traceback (most recent call last):\n",
      "  File \"C:\\Users\\97150\\Anaconda3\\envs\\new_env\\lib\\site-packages\\sklearn\\model_selection\\_validation.py\", line 531, in _fit_and_score\n",
      "    estimator.fit(X_train, y_train, **fit_params)\n",
      "  File \"C:\\Users\\97150\\Anaconda3\\envs\\new_env\\lib\\site-packages\\sklearn\\ensemble\\_forest.py\", line 351, in fit\n",
      "    raise ValueError(\"Out of bag estimation only available\"\n",
      "ValueError: Out of bag estimation only available if bootstrap=True\n",
      "\n",
      "  FitFailedWarning)\n",
      "C:\\Users\\97150\\Anaconda3\\envs\\new_env\\lib\\site-packages\\sklearn\\model_selection\\_validation.py:552: FitFailedWarning: Estimator fit failed. The score on this train-test partition for these parameters will be set to nan. Details: \n",
      "Traceback (most recent call last):\n",
      "  File \"C:\\Users\\97150\\Anaconda3\\envs\\new_env\\lib\\site-packages\\sklearn\\model_selection\\_validation.py\", line 531, in _fit_and_score\n",
      "    estimator.fit(X_train, y_train, **fit_params)\n",
      "  File \"C:\\Users\\97150\\Anaconda3\\envs\\new_env\\lib\\site-packages\\sklearn\\ensemble\\_forest.py\", line 351, in fit\n",
      "    raise ValueError(\"Out of bag estimation only available\"\n",
      "ValueError: Out of bag estimation only available if bootstrap=True\n",
      "\n",
      "  FitFailedWarning)\n",
      "C:\\Users\\97150\\Anaconda3\\envs\\new_env\\lib\\site-packages\\sklearn\\model_selection\\_validation.py:552: FitFailedWarning: Estimator fit failed. The score on this train-test partition for these parameters will be set to nan. Details: \n",
      "Traceback (most recent call last):\n",
      "  File \"C:\\Users\\97150\\Anaconda3\\envs\\new_env\\lib\\site-packages\\sklearn\\model_selection\\_validation.py\", line 531, in _fit_and_score\n",
      "    estimator.fit(X_train, y_train, **fit_params)\n",
      "  File \"C:\\Users\\97150\\Anaconda3\\envs\\new_env\\lib\\site-packages\\sklearn\\ensemble\\_forest.py\", line 351, in fit\n",
      "    raise ValueError(\"Out of bag estimation only available\"\n",
      "ValueError: Out of bag estimation only available if bootstrap=True\n",
      "\n",
      "  FitFailedWarning)\n",
      "C:\\Users\\97150\\Anaconda3\\envs\\new_env\\lib\\site-packages\\sklearn\\model_selection\\_validation.py:552: FitFailedWarning: Estimator fit failed. The score on this train-test partition for these parameters will be set to nan. Details: \n",
      "Traceback (most recent call last):\n",
      "  File \"C:\\Users\\97150\\Anaconda3\\envs\\new_env\\lib\\site-packages\\sklearn\\model_selection\\_validation.py\", line 531, in _fit_and_score\n",
      "    estimator.fit(X_train, y_train, **fit_params)\n",
      "  File \"C:\\Users\\97150\\Anaconda3\\envs\\new_env\\lib\\site-packages\\sklearn\\ensemble\\_forest.py\", line 351, in fit\n",
      "    raise ValueError(\"Out of bag estimation only available\"\n",
      "ValueError: Out of bag estimation only available if bootstrap=True\n",
      "\n",
      "  FitFailedWarning)\n",
      "C:\\Users\\97150\\Anaconda3\\envs\\new_env\\lib\\site-packages\\sklearn\\model_selection\\_validation.py:552: FitFailedWarning: Estimator fit failed. The score on this train-test partition for these parameters will be set to nan. Details: \n",
      "Traceback (most recent call last):\n",
      "  File \"C:\\Users\\97150\\Anaconda3\\envs\\new_env\\lib\\site-packages\\sklearn\\model_selection\\_validation.py\", line 531, in _fit_and_score\n",
      "    estimator.fit(X_train, y_train, **fit_params)\n",
      "  File \"C:\\Users\\97150\\Anaconda3\\envs\\new_env\\lib\\site-packages\\sklearn\\ensemble\\_forest.py\", line 351, in fit\n",
      "    raise ValueError(\"Out of bag estimation only available\"\n",
      "ValueError: Out of bag estimation only available if bootstrap=True\n",
      "\n",
      "  FitFailedWarning)\n",
      "C:\\Users\\97150\\Anaconda3\\envs\\new_env\\lib\\site-packages\\sklearn\\model_selection\\_validation.py:552: FitFailedWarning: Estimator fit failed. The score on this train-test partition for these parameters will be set to nan. Details: \n",
      "Traceback (most recent call last):\n",
      "  File \"C:\\Users\\97150\\Anaconda3\\envs\\new_env\\lib\\site-packages\\sklearn\\model_selection\\_validation.py\", line 531, in _fit_and_score\n",
      "    estimator.fit(X_train, y_train, **fit_params)\n",
      "  File \"C:\\Users\\97150\\Anaconda3\\envs\\new_env\\lib\\site-packages\\sklearn\\ensemble\\_forest.py\", line 351, in fit\n",
      "    raise ValueError(\"Out of bag estimation only available\"\n",
      "ValueError: Out of bag estimation only available if bootstrap=True\n",
      "\n",
      "  FitFailedWarning)\n",
      "C:\\Users\\97150\\Anaconda3\\envs\\new_env\\lib\\site-packages\\sklearn\\model_selection\\_validation.py:552: FitFailedWarning: Estimator fit failed. The score on this train-test partition for these parameters will be set to nan. Details: \n",
      "Traceback (most recent call last):\n",
      "  File \"C:\\Users\\97150\\Anaconda3\\envs\\new_env\\lib\\site-packages\\sklearn\\model_selection\\_validation.py\", line 531, in _fit_and_score\n",
      "    estimator.fit(X_train, y_train, **fit_params)\n",
      "  File \"C:\\Users\\97150\\Anaconda3\\envs\\new_env\\lib\\site-packages\\sklearn\\ensemble\\_forest.py\", line 351, in fit\n",
      "    raise ValueError(\"Out of bag estimation only available\"\n",
      "ValueError: Out of bag estimation only available if bootstrap=True\n",
      "\n",
      "  FitFailedWarning)\n",
      "C:\\Users\\97150\\Anaconda3\\envs\\new_env\\lib\\site-packages\\sklearn\\model_selection\\_validation.py:552: FitFailedWarning: Estimator fit failed. The score on this train-test partition for these parameters will be set to nan. Details: \n",
      "Traceback (most recent call last):\n",
      "  File \"C:\\Users\\97150\\Anaconda3\\envs\\new_env\\lib\\site-packages\\sklearn\\model_selection\\_validation.py\", line 531, in _fit_and_score\n",
      "    estimator.fit(X_train, y_train, **fit_params)\n",
      "  File \"C:\\Users\\97150\\Anaconda3\\envs\\new_env\\lib\\site-packages\\sklearn\\ensemble\\_forest.py\", line 351, in fit\n",
      "    raise ValueError(\"Out of bag estimation only available\"\n",
      "ValueError: Out of bag estimation only available if bootstrap=True\n",
      "\n",
      "  FitFailedWarning)\n",
      "C:\\Users\\97150\\Anaconda3\\envs\\new_env\\lib\\site-packages\\sklearn\\model_selection\\_validation.py:552: FitFailedWarning: Estimator fit failed. The score on this train-test partition for these parameters will be set to nan. Details: \n",
      "Traceback (most recent call last):\n",
      "  File \"C:\\Users\\97150\\Anaconda3\\envs\\new_env\\lib\\site-packages\\sklearn\\model_selection\\_validation.py\", line 531, in _fit_and_score\n",
      "    estimator.fit(X_train, y_train, **fit_params)\n",
      "  File \"C:\\Users\\97150\\Anaconda3\\envs\\new_env\\lib\\site-packages\\sklearn\\ensemble\\_forest.py\", line 351, in fit\n",
      "    raise ValueError(\"Out of bag estimation only available\"\n",
      "ValueError: Out of bag estimation only available if bootstrap=True\n",
      "\n",
      "  FitFailedWarning)\n",
      "C:\\Users\\97150\\Anaconda3\\envs\\new_env\\lib\\site-packages\\sklearn\\model_selection\\_validation.py:552: FitFailedWarning: Estimator fit failed. The score on this train-test partition for these parameters will be set to nan. Details: \n",
      "Traceback (most recent call last):\n",
      "  File \"C:\\Users\\97150\\Anaconda3\\envs\\new_env\\lib\\site-packages\\sklearn\\model_selection\\_validation.py\", line 531, in _fit_and_score\n",
      "    estimator.fit(X_train, y_train, **fit_params)\n",
      "  File \"C:\\Users\\97150\\Anaconda3\\envs\\new_env\\lib\\site-packages\\sklearn\\ensemble\\_forest.py\", line 351, in fit\n",
      "    raise ValueError(\"Out of bag estimation only available\"\n",
      "ValueError: Out of bag estimation only available if bootstrap=True\n",
      "\n",
      "  FitFailedWarning)\n",
      "C:\\Users\\97150\\Anaconda3\\envs\\new_env\\lib\\site-packages\\sklearn\\model_selection\\_validation.py:552: FitFailedWarning: Estimator fit failed. The score on this train-test partition for these parameters will be set to nan. Details: \n",
      "Traceback (most recent call last):\n",
      "  File \"C:\\Users\\97150\\Anaconda3\\envs\\new_env\\lib\\site-packages\\sklearn\\model_selection\\_validation.py\", line 531, in _fit_and_score\n",
      "    estimator.fit(X_train, y_train, **fit_params)\n",
      "  File \"C:\\Users\\97150\\Anaconda3\\envs\\new_env\\lib\\site-packages\\sklearn\\ensemble\\_forest.py\", line 351, in fit\n",
      "    raise ValueError(\"Out of bag estimation only available\"\n",
      "ValueError: Out of bag estimation only available if bootstrap=True\n",
      "\n",
      "  FitFailedWarning)\n",
      "C:\\Users\\97150\\Anaconda3\\envs\\new_env\\lib\\site-packages\\sklearn\\model_selection\\_validation.py:552: FitFailedWarning: Estimator fit failed. The score on this train-test partition for these parameters will be set to nan. Details: \n",
      "Traceback (most recent call last):\n",
      "  File \"C:\\Users\\97150\\Anaconda3\\envs\\new_env\\lib\\site-packages\\sklearn\\model_selection\\_validation.py\", line 531, in _fit_and_score\n",
      "    estimator.fit(X_train, y_train, **fit_params)\n",
      "  File \"C:\\Users\\97150\\Anaconda3\\envs\\new_env\\lib\\site-packages\\sklearn\\ensemble\\_forest.py\", line 351, in fit\n",
      "    raise ValueError(\"Out of bag estimation only available\"\n",
      "ValueError: Out of bag estimation only available if bootstrap=True\n",
      "\n",
      "  FitFailedWarning)\n",
      "C:\\Users\\97150\\Anaconda3\\envs\\new_env\\lib\\site-packages\\sklearn\\model_selection\\_validation.py:552: FitFailedWarning: Estimator fit failed. The score on this train-test partition for these parameters will be set to nan. Details: \n",
      "Traceback (most recent call last):\n",
      "  File \"C:\\Users\\97150\\Anaconda3\\envs\\new_env\\lib\\site-packages\\sklearn\\model_selection\\_validation.py\", line 531, in _fit_and_score\n",
      "    estimator.fit(X_train, y_train, **fit_params)\n",
      "  File \"C:\\Users\\97150\\Anaconda3\\envs\\new_env\\lib\\site-packages\\sklearn\\ensemble\\_forest.py\", line 351, in fit\n",
      "    raise ValueError(\"Out of bag estimation only available\"\n",
      "ValueError: Out of bag estimation only available if bootstrap=True\n",
      "\n",
      "  FitFailedWarning)\n",
      "C:\\Users\\97150\\Anaconda3\\envs\\new_env\\lib\\site-packages\\sklearn\\model_selection\\_validation.py:552: FitFailedWarning: Estimator fit failed. The score on this train-test partition for these parameters will be set to nan. Details: \n",
      "Traceback (most recent call last):\n",
      "  File \"C:\\Users\\97150\\Anaconda3\\envs\\new_env\\lib\\site-packages\\sklearn\\model_selection\\_validation.py\", line 531, in _fit_and_score\n",
      "    estimator.fit(X_train, y_train, **fit_params)\n",
      "  File \"C:\\Users\\97150\\Anaconda3\\envs\\new_env\\lib\\site-packages\\sklearn\\ensemble\\_forest.py\", line 351, in fit\n",
      "    raise ValueError(\"Out of bag estimation only available\"\n",
      "ValueError: Out of bag estimation only available if bootstrap=True\n",
      "\n",
      "  FitFailedWarning)\n",
      "C:\\Users\\97150\\Anaconda3\\envs\\new_env\\lib\\site-packages\\sklearn\\model_selection\\_validation.py:552: FitFailedWarning: Estimator fit failed. The score on this train-test partition for these parameters will be set to nan. Details: \n",
      "Traceback (most recent call last):\n",
      "  File \"C:\\Users\\97150\\Anaconda3\\envs\\new_env\\lib\\site-packages\\sklearn\\model_selection\\_validation.py\", line 531, in _fit_and_score\n",
      "    estimator.fit(X_train, y_train, **fit_params)\n",
      "  File \"C:\\Users\\97150\\Anaconda3\\envs\\new_env\\lib\\site-packages\\sklearn\\ensemble\\_forest.py\", line 351, in fit\n",
      "    raise ValueError(\"Out of bag estimation only available\"\n",
      "ValueError: Out of bag estimation only available if bootstrap=True\n",
      "\n",
      "  FitFailedWarning)\n",
      "C:\\Users\\97150\\Anaconda3\\envs\\new_env\\lib\\site-packages\\sklearn\\model_selection\\_validation.py:552: FitFailedWarning: Estimator fit failed. The score on this train-test partition for these parameters will be set to nan. Details: \n",
      "Traceback (most recent call last):\n",
      "  File \"C:\\Users\\97150\\Anaconda3\\envs\\new_env\\lib\\site-packages\\sklearn\\model_selection\\_validation.py\", line 531, in _fit_and_score\n",
      "    estimator.fit(X_train, y_train, **fit_params)\n",
      "  File \"C:\\Users\\97150\\Anaconda3\\envs\\new_env\\lib\\site-packages\\sklearn\\ensemble\\_forest.py\", line 351, in fit\n",
      "    raise ValueError(\"Out of bag estimation only available\"\n",
      "ValueError: Out of bag estimation only available if bootstrap=True\n",
      "\n",
      "  FitFailedWarning)\n"
     ]
    },
    {
     "data": {
      "text/plain": [
       "GridSearchCV(estimator=RandomForestClassifier(),\n",
       "             param_grid={'bootstrap': [True, False], 'max_features': [2, 3, 4],\n",
       "                         'n_estimators': [64, 100, 128, 200],\n",
       "                         'oob_score': [True, False]})"
      ]
     },
     "execution_count": 397,
     "metadata": {},
     "output_type": "execute_result"
    }
   ],
   "source": [
    "grid_rfc.fit(X_train,y_train)"
   ]
  },
  {
   "cell_type": "code",
   "execution_count": 398,
   "id": "da8218a2",
   "metadata": {},
   "outputs": [
    {
     "data": {
      "text/plain": [
       "{'bootstrap': True, 'max_features': 2, 'n_estimators': 64, 'oob_score': True}"
      ]
     },
     "execution_count": 398,
     "metadata": {},
     "output_type": "execute_result"
    }
   ],
   "source": [
    "grid_rfc.best_params_"
   ]
  },
  {
   "cell_type": "code",
   "execution_count": 399,
   "id": "ff6c8bd8",
   "metadata": {},
   "outputs": [],
   "source": [
    "y_pred_rfc_2=grid_rfc.predict(X_test)"
   ]
  },
  {
   "cell_type": "code",
   "execution_count": 400,
   "id": "42a63052",
   "metadata": {},
   "outputs": [
    {
     "data": {
      "text/plain": [
       "0.9354838709677419"
      ]
     },
     "execution_count": 400,
     "metadata": {},
     "output_type": "execute_result"
    }
   ],
   "source": [
    "accuracy_score(y_test,y_pred_rfc_2)"
   ]
  },
  {
   "cell_type": "code",
   "execution_count": 401,
   "id": "acd51b32",
   "metadata": {},
   "outputs": [
    {
     "data": {
      "text/plain": [
       "array([[12,  0],\n",
       "       [ 2, 17]], dtype=int64)"
      ]
     },
     "execution_count": 401,
     "metadata": {},
     "output_type": "execute_result"
    }
   ],
   "source": [
    "confusion_matrix(y_test,y_pred_rfc_2)"
   ]
  },
  {
   "cell_type": "code",
   "execution_count": 402,
   "id": "f815be5d",
   "metadata": {},
   "outputs": [
    {
     "name": "stdout",
     "output_type": "stream",
     "text": [
      "              precision    recall  f1-score   support\n",
      "\n",
      "           0       0.86      1.00      0.92        12\n",
      "           1       1.00      0.89      0.94        19\n",
      "\n",
      "    accuracy                           0.94        31\n",
      "   macro avg       0.93      0.95      0.93        31\n",
      "weighted avg       0.94      0.94      0.94        31\n",
      "\n"
     ]
    }
   ],
   "source": [
    "print(classification_report(y_test,y_pred_rfc_2))"
   ]
  },
  {
   "cell_type": "markdown",
   "id": "4ff696db",
   "metadata": {},
   "source": [
    "## Improved !!"
   ]
  },
  {
   "cell_type": "code",
   "execution_count": null,
   "id": "554c019c",
   "metadata": {},
   "outputs": [],
   "source": []
  }
 ],
 "metadata": {
  "kernelspec": {
   "display_name": "Python 3 (ipykernel)",
   "language": "python",
   "name": "python3"
  },
  "language_info": {
   "codemirror_mode": {
    "name": "ipython",
    "version": 3
   },
   "file_extension": ".py",
   "mimetype": "text/x-python",
   "name": "python",
   "nbconvert_exporter": "python",
   "pygments_lexer": "ipython3",
   "version": "3.7.13"
  }
 },
 "nbformat": 4,
 "nbformat_minor": 5
}
